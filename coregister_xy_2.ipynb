{
  "nbformat": 4,
  "nbformat_minor": 0,
  "metadata": {
    "colab": {
      "provenance": [],
      "include_colab_link": true
    },
    "kernelspec": {
      "name": "python3",
      "display_name": "Python 3"
    },
    "language_info": {
      "name": "python"
    }
  },
  "cells": [
    {
      "cell_type": "markdown",
      "metadata": {
        "id": "view-in-github",
        "colab_type": "text"
      },
      "source": [
        "<a href=\"https://colab.research.google.com/github/WinetraubLab/coregister-xy/blob/main/coregister_xy_2.ipynb\" target=\"_parent\"><img src=\"https://colab.research.google.com/assets/colab-badge.svg\" alt=\"Open In Colab\"/></a>"
      ]
    },
    {
      "cell_type": "markdown",
      "source": [
        "\n",
        "<a href=\"https://github.com/WinetraubLab/coregister-xy/blob/main/coregister_xy_2.ipynb\" target=\"_blank\">\n",
        "  <img src=\"https://img.shields.io/badge/view%20in-GitHub-blue\" alt=\"View in GitHub\"/>\n",
        "</a>\n",
        "\n",
        "# Overview\n",
        "Use this notebook to get alignment information from ImageJ image registration. Print stats for individual barcodes and calculate mapping from angled tissue slice to flat view."
      ],
      "metadata": {
        "id": "nyWsnQAS6ajW"
      }
    },
    {
      "cell_type": "code",
      "source": [
        "from google.colab import drive\n",
        "drive.mount('/content/drive')"
      ],
      "metadata": {
        "colab": {
          "base_uri": "https://localhost:8080/"
        },
        "id": "RvHRptO-TPsS",
        "outputId": "6d43f089-9b68-4b73-8936-adb6a670df12"
      },
      "execution_count": 4,
      "outputs": [
        {
          "output_type": "stream",
          "name": "stdout",
          "text": [
            "Mounted at /content/drive\n"
          ]
        }
      ]
    },
    {
      "cell_type": "code",
      "execution_count": 5,
      "metadata": {
        "id": "QAJZaJhi57wu"
      },
      "outputs": [],
      "source": [
        "# @title Notebook Inputs { display-mode: \"form\" }\n",
        "## @markdown How to use this notebook: [See Instructions]()\n",
        "import numpy as np\n",
        "\n",
        "# @markdown Input Paths:\n",
        "# @markdown Leave either path blank to load a file from local file system.\n",
        "trakem_xml_path = \"/content/drive/Shareddrives/Yolab - Current Projects/_Datasets/2024-09-04 Multiple Barcode Alignment/align3.xml\" # @param {type:\"string\"}\n",
        "fluorescent_patch_number = 8 # @param {type:\"integer\"}\n",
        "# @markdown For the alignment of multiple templates to one fluorescent image, specify the patch numbers of each template in the TrakEM stack.\n",
        "# template_patch_1 = 11 # @param {type:\"integer\"}\n",
        "# template_patch_2 = 14 # @param {type:\"integer\"}\n",
        "# template_patch_3 = 17 # @param {type:\"integer\"}\n",
        "\n",
        "# @markdown Enter template patch IDs in order, separated by commas. Example: 11, 14, 17\n",
        "template_patch_list = \"11, 14, 17\" # @param {type:\"string\"}\n",
        "\n",
        "# @markdown Z-depth of each template, in um. Enter as a comma-separated list. Example: 50, 52, 54\n",
        "template_z_list = \"68, 52, 56\" # @param {type:\"string\"}\n",
        "\n",
        "# @markdown Real (x,y) locations of photobleach barcode centers, as specified by script used to photobleach. Enter in format: (1000,0), (0, 1000), (0,0)\n",
        "real_centers = [0,1000], [1000, 1000], [0, 0] # @param\n",
        "\n",
        "real_centers = np.array(real_centers)\n",
        "real_centers = np.column_stack((real_centers, np.zeros(real_centers.shape[0])))\n",
        "\n",
        "template_size = 401\n",
        "um_per_pixel = 2\n",
        "\n",
        "from google.colab import drive\n",
        "from google.colab import files\n",
        "# drive.mount('/content/drive/')\n",
        "\n",
        "assert len(template_patch_list) == len(template_z_list), \"Number of elements in template patch list and template z list must match\"\n",
        "\n",
        "if not trakem_xml_path:\n",
        "  print(\"Upload saved TrakEM project:\")\n",
        "  uploaded = files.upload()\n",
        "  trakem_xml_path = list(uploaded.keys())[0]\n",
        "  trakem_xml_path = os.path.join(os.getcwd(), trakem_xml_path)\n"
      ]
    },
    {
      "cell_type": "code",
      "source": [
        "# @title Environment Setup\n",
        "!git clone -b fmp_mapping_fx https://github.com/WinetraubLab/coregister-xy.git\n",
        "%cd coregister-xy\n",
        "\n",
        "# from plane.fit_plane import FitPlane\n",
        "from plane.parse_xml import ParseXML\n",
        "from plane.fit_multi_plane import FitMultiPlane\n",
        "# from plane.fit_plane import FitPlane\n",
        "import matplotlib.pyplot as plt\n",
        "import os\n",
        "from google.colab import files\n",
        "import math\n",
        "\n",
        "%cd .."
      ],
      "metadata": {
        "colab": {
          "base_uri": "https://localhost:8080/"
        },
        "id": "nwknGqCz9QVO",
        "outputId": "2447657e-062a-45d9-daad-dbb18f132065"
      },
      "execution_count": 2,
      "outputs": [
        {
          "output_type": "stream",
          "name": "stdout",
          "text": [
            "fatal: destination path 'coregister-xy' already exists and is not an empty directory.\n",
            "/content/coregister-xy\n",
            "/content\n"
          ]
        }
      ]
    },
    {
      "cell_type": "code",
      "source": [
        "zs = [int(x) for x in template_z_list.split(\",\")]\n",
        "templates = [int(x) for x in template_patch_list.split(\",\")]\n",
        "fps = []\n",
        "for i in range(0, len(templates)):\n",
        "    fp = ParseXML.from_imagej_xml(trakem_xml_path, fluorescent_patch_number, templates[i], zs[i], None, True)\n",
        "    fps.append(fp)\n",
        "\n",
        "multi_plane = FitMultiPlane.from_aligned_fitplanes(fps, real_centers, template_size, um_per_pixel)"
      ],
      "metadata": {
        "id": "mlj600ZD2ZpP"
      },
      "execution_count": 10,
      "outputs": []
    },
    {
      "cell_type": "code",
      "source": [
        "multi_plane.print_single_plane_stats()"
      ],
      "metadata": {
        "colab": {
          "base_uri": "https://localhost:8080/"
        },
        "id": "FwJ0FEVo3Uch",
        "outputId": "fd946e06-2926-42a9-d1aa-8ea496f18903"
      },
      "execution_count": 11,
      "outputs": [
        {
          "output_type": "stream",
          "name": "stdout",
          "text": [
            "Stats for individual barcodes:\n",
            "\n",
            "      Template ID Patch Number  Z (um) Center (x) Center (y)  Rotation (deg)  \\\n",
            "0             1.0         11.0   68.00     698.93    2920.88            7.28   \n",
            "1             2.0         14.0   52.00    1658.59    3113.83            7.32   \n",
            "2             3.0         17.0   56.00     738.31    1995.97            6.21   \n",
            "Mean                             58.67                                  6.94   \n",
            "StDev                             8.33                                  0.63   \n",
            "\n",
            "       Scaling  Shear magnitude  Shear vector (x)  Shear vector (y)  \n",
            "0         1.96            -0.05             -0.99             -0.10  \n",
            "1         1.87             0.03              0.72              0.70  \n",
            "2         1.92             0.03              0.79             -0.62  \n",
            "Mean      1.92             0.00              0.17             -0.01  \n",
            "StDev     0.04             0.05              1.01              0.66  \n"
          ]
        }
      ]
    },
    {
      "cell_type": "code",
      "source": [
        "print(\"Fitplane barcodes, in px:\")\n",
        "c = np.array([(project.tx + multi_plane.template_size/2, project.ty + multi_plane.template_size/2) for project in multi_plane.fitplanes])\n",
        "print(c, \"\\n\")\n",
        "\n",
        "multi_plane.calc_fitplane_centers()\n",
        "\n",
        "print(\"Fitplane barcodes, in um:\")\n",
        "print(multi_plane.fitplane_centers)\n",
        "print()\n",
        "\n",
        "u,v,h = multi_plane.fit_mapping_to_xy()\n",
        "\n",
        "print(\"Transformation coefficients:\")\n",
        "print(\"Vector u:\", u)\n",
        "print(\"Vector v:\", v)\n",
        "print(\"Vector h:\", h)"
      ],
      "metadata": {
        "colab": {
          "base_uri": "https://localhost:8080/"
        },
        "id": "zRKa2Tbz3Xbo",
        "outputId": "5a8c0ebd-9f18-42a5-a006-e4e21fa0da1a"
      },
      "execution_count": 19,
      "outputs": [
        {
          "output_type": "stream",
          "name": "stdout",
          "text": [
            "Fitplane barcodes, in px:\n",
            "[[ 698.93235169 2920.87604794]\n",
            " [1658.59427735 3113.82599019]\n",
            " [ 738.31430888 1995.96596334]] \n",
            "\n",
            "Fitplane barcodes, in um:\n",
            "[[ 729.56326015 3048.88426882   68.        ]\n",
            " [1731.28264177 3250.290297     52.        ]\n",
            " [ 770.67114278 2083.43973755   56.        ]]\n",
            "\n",
            "Transformation coefficients:\n",
            "Vector u: [ 9.89809814e-01 -2.06488987e-01  7.82808345e-14]\n",
            "Vector v: [ 4.21453376e-02  1.02700015e+00 -3.11291641e-14]\n",
            "Vector h: [-8.50625132e+02 -1.98055781e+03  1.00000000e+00]\n"
          ]
        }
      ]
    },
    {
      "cell_type": "code",
      "source": [
        "def compute_avg_error(a, b):\n",
        "    assert a.shape == b.shape, \"Input arrays must have the same shape\"\n",
        "    if a.shape[1] == 3:\n",
        "        a = a[:, :2]\n",
        "        b = b[:, :2]\n",
        "    return np.mean(np.linalg.norm(a - b, axis=1))\n",
        "\n",
        "projected = []\n",
        "for p in multi_plane.fitplane_centers:\n",
        "    projected.append(multi_plane.get_xyz_from_uv(p))\n",
        "projected = np.array(projected)\n",
        "err = compute_avg_error(projected[:,:-1], multi_plane.real_centers[:,:-1])\n",
        "print(\"Average in-plane (xy) error: \", err)"
      ],
      "metadata": {
        "colab": {
          "base_uri": "https://localhost:8080/"
        },
        "id": "Dc5m-qPq4nz2",
        "outputId": "694789ea-bc18-453b-9326-6b0d1541dcc3"
      },
      "execution_count": 24,
      "outputs": [
        {
          "output_type": "stream",
          "name": "stdout",
          "text": [
            "Average in-plane (xy) error:  6.968115316478089e-11\n"
          ]
        }
      ]
    },
    {
      "cell_type": "markdown",
      "source": [
        "clearly outline:\n",
        "1. center points Cu, Cv in pixels\n",
        "2. physical position in Cx,Cy,Cz in um or mm\n",
        "3. output vector u,v,h\n",
        "\n",
        "4. (Cx Cy Cz) - ( Cu*u+ Cv*v + h ) error\n",
        "- out of plane error\n",
        "- error vector: parallel/perpendicular components\n",
        "\n",
        "Goal: to use this to lay a plane in an empty 3d volume\n",
        "\n",
        "0. individual function merges\n",
        "1. in class fmp: function to map arbitrary point\n",
        "2. see coregister xz fit plane functions + tester"
      ],
      "metadata": {
        "id": "2aslvt09hqbi"
      }
    },
    {
      "cell_type": "code",
      "source": [],
      "metadata": {
        "id": "vJTVpp4sfovK"
      },
      "execution_count": null,
      "outputs": []
    }
  ]
}