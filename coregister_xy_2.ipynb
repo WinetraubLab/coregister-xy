{
  "cells": [
    {
      "cell_type": "markdown",
      "metadata": {
        "colab_type": "text",
        "id": "view-in-github"
      },
      "source": [
        "<a href=\"https://colab.research.google.com/github/WinetraubLab/coregister-xy/blob/main/coregister_xy_2.ipynb\" target=\"_parent\"><img src=\"https://colab.research.google.com/assets/colab-badge.svg\" alt=\"Open In Colab\"/></a>"
      ]
    },
    {
      "cell_type": "markdown",
      "metadata": {
        "id": "nyWsnQAS6ajW"
      },
      "source": [
        "\n",
        "<a href=\"https://github.com/WinetraubLab/coregister-xy/blob/main/coregister_xy_2.ipynb\" target=\"_blank\">\n",
        "  <img src=\"https://img.shields.io/badge/view%20in-GitHub-blue\" alt=\"View in GitHub\"/>\n",
        "</a>\n",
        "\n",
        "# Overview\n",
        "Use this notebook to get alignment information from ImageJ image registration. Print stats for individual barcodes and calculate mapping from angled tissue slice to flat view."
      ]
    },
    {
      "cell_type": "code",
      "execution_count": 1,
      "metadata": {
        "colab": {
          "base_uri": "https://localhost:8080/"
        },
        "id": "RvHRptO-TPsS",
        "outputId": "f6ec9079-1c0f-4272-908b-a9ecdd8e228c"
      },
      "outputs": [
        {
          "name": "stdout",
          "output_type": "stream",
          "text": [
            "Mounted at /content/drive\n"
          ]
        }
      ],
      "source": [
        "from google.colab import drive\n",
        "drive.mount('/content/drive')"
      ]
    },
    {
      "cell_type": "code",
      "execution_count": 48,
      "metadata": {
        "id": "QAJZaJhi57wu"
      },
      "outputs": [],
      "source": [
        "# @title Notebook Inputs { display-mode: \"form\" }\n",
        "## @markdown How to use this notebook: [See Instructions]()\n",
        "import numpy as np\n",
        "\n",
        "# @markdown Input Paths:\n",
        "# @markdown Leave either path blank to load a file from local file system.\n",
        "trakem_xml_path = \"/content/drive/Shareddrives/Yolab - Current Projects/_Datasets/2024-09-04 Multiple Barcode Alignment/align3.xml\" # @param {type:\"string\"}\n",
        "fluorescent_patch_number = 8 # @param {type:\"integer\"}\n",
        "# @markdown For the alignment of multiple templates to one fluorescent image, specify the patch numbers of each template in the TrakEM stack.\n",
        "# template_patch_1 = 11 # @param {type:\"integer\"}\n",
        "# template_patch_2 = 14 # @param {type:\"integer\"}\n",
        "# template_patch_3 = 17 # @param {type:\"integer\"}\n",
        "\n",
        "# @markdown Enter template patch IDs in order, separated by commas. Example: 11, 14, 17\n",
        "template_patch_list = \"11, 14, 17\" # @param {type:\"string\"}\n",
        "\n",
        "# @markdown Z-depth of each template, in um. Enter as a comma-separated list. Example: 50, 52, 54\n",
        "template_z_list = \"68, 52, 56\" # @param {type:\"string\"}\n",
        "\n",
        "# @markdown Real (x,y) locations of photobleach barcode centers, as specified by script used to photobleach. Enter in format: (1000,0), (0, 1000), (0,0)\n",
        "real_centers = [0,1000], [1000, 1000], [0, 0] # @param\n",
        "\n",
        "real_centers = np.array(real_centers)\n",
        "real_centers = np.column_stack((real_centers, np.zeros(real_centers.shape[0])))\n",
        "\n",
        "template_size = 401\n",
        "um_per_pixel = 2\n",
        "\n",
        "from google.colab import drive\n",
        "from google.colab import files\n",
        "# drive.mount('/content/drive/')\n",
        "\n",
        "assert len(template_patch_list) == len(template_z_list), \"Number of elements in template patch list and template z list must match\"\n",
        "\n",
        "if not trakem_xml_path:\n",
        "  print(\"Upload saved TrakEM project:\")\n",
        "  uploaded = files.upload()\n",
        "  trakem_xml_path = list(uploaded.keys())[0]\n",
        "  trakem_xml_path = os.path.join(os.getcwd(), trakem_xml_path)\n"
      ]
    },
    {
      "cell_type": "code",
      "execution_count": 3,
      "metadata": {
        "colab": {
          "base_uri": "https://localhost:8080/"
        },
        "id": "nwknGqCz9QVO",
        "outputId": "41a13fde-1578-4331-c4fe-365068b066e4"
      },
      "outputs": [
        {
          "name": "stdout",
          "output_type": "stream",
          "text": [
            "Cloning into 'coregister-xy'...\n",
            "remote: Enumerating objects: 514, done.\u001b[K\n",
            "remote: Counting objects: 100% (118/118), done.\u001b[K\n",
            "remote: Compressing objects: 100% (61/61), done.\u001b[K\n",
            "remote: Total 514 (delta 84), reused 76 (delta 57), pack-reused 396 (from 1)\u001b[K\n",
            "Receiving objects: 100% (514/514), 1.04 MiB | 3.22 MiB/s, done.\n",
            "Resolving deltas: 100% (299/299), done.\n",
            "/content/coregister-xy\n",
            "/content\n"
          ]
        }
      ],
      "source": [
        "# @title Environment Setup\n",
        "!git clone https://github.com/WinetraubLab/coregister-xy.git\n",
        "%cd coregister-xy\n",
        "\n",
        "# from plane.fit_plane import FitPlane\n",
        "from plane.fit_template import FitTemplate\n",
        "# from plane.fit_plane import FitPlane\n",
        "import matplotlib.pyplot as plt\n",
        "import os\n",
        "from google.colab import files\n",
        "import math\n",
        "\n",
        "%cd .."
      ]
    },
    {
      "cell_type": "code",
      "execution_count": 49,
      "metadata": {
        "colab": {
          "base_uri": "https://localhost:8080/"
        },
        "id": "kCGaqUR4jbjJ",
        "outputId": "e7441e22-8b36-4c1a-8b54-36313e0f34b2"
      },
      "outputs": [
        {
          "name": "stdout",
          "output_type": "stream",
          "text": [
            "Stats for individual barcodes:\n",
            "\n",
            "      Template ID Patch Number  Z (um) Center (x) Center (y)  Rotation (deg)  \\\n",
            "0             1.0         11.0   68.00     698.93    2920.88            7.28   \n",
            "1             2.0         14.0   52.00    1658.59    3113.83            7.32   \n",
            "2             3.0         17.0   56.00     738.31    1995.97            6.21   \n",
            "Mean                             58.67                                  6.94   \n",
            "StDev                             8.33                                  0.63   \n",
            "\n",
            "       Scaling  Shear magnitude  Shear vector (x)  Shear vector (y)  \n",
            "0         1.96            -0.05             -0.99             -0.10  \n",
            "1         1.87             0.03              0.72              0.70  \n",
            "2         1.92             0.03              0.79             -0.62  \n",
            "Mean      1.92             0.00              0.17             -0.01  \n",
            "StDev     0.04             0.05              1.01              0.66  \n"
          ]
        }
      ],
      "source": [
        "import pandas as pd\n",
        "\n",
        "# @title Compute Physical Transform Parameters, relative to image origin\n",
        "ps = []\n",
        "templates = [int(x) for x in template_patch_list.split(\",\")]\n",
        "zs = [float(x) for x in template_z_list.split(\",\")]\n",
        "num_templates = len(templates)\n",
        "\n",
        "ps = []\n",
        "for i in range(0,num_templates):\n",
        "    project = FitTemplate.from_imagej_xml(trakem_xml_path, fluorescent_patch_number, templates[i], None, True)\n",
        "    ps.append(project)\n",
        "\n",
        "projects_data = {\n",
        "    \"Template ID\": [i for i in range(1, num_templates+1)],\n",
        "    \"Patch Number\": [t for t in templates],\n",
        "    \"Z (um)\": [z for z in zs],\n",
        "    \"Center (x)\": [project.tx + template_size/2 for project in ps],\n",
        "    \"Center (y)\": [project.ty + template_size/2 for project in ps],\n",
        "    \"Rotation (deg)\": [project.theta_deg for project in ps],\n",
        "    \"Scaling\": [project.scale for project in ps],\n",
        "    \"Shear magnitude\": [project.shear_magnitude for project in ps],\n",
        "    \"Shear vector (x)\": [project.shear_vector[0] for project in ps],\n",
        "    \"Shear vector (y)\": [project.shear_vector[1] for project in ps]\n",
        "}\n",
        "\n",
        "columns_to_summarize = [\"Z (um)\", \"Rotation (deg)\", \"Scaling\", \"Shear magnitude\", \"Shear vector (x)\", \"Shear vector (y)\"]\n",
        "\n",
        "# Create DataFrame\n",
        "df = pd.DataFrame(projects_data)\n",
        "\n",
        "# Compute mean and standard deviation for selected columns only\n",
        "mean_row = df[columns_to_summarize].mean()\n",
        "std_row = df[columns_to_summarize].std()\n",
        "\n",
        "# Append mean and std as new rows for selected columns only\n",
        "summary_df = df.copy()\n",
        "summary_df.loc['Mean', columns_to_summarize] = mean_row\n",
        "summary_df.loc['StDev', columns_to_summarize] = std_row\n",
        "summary_df = summary_df.round(2)\n",
        "summary_df = summary_df.replace(np.nan, '', regex=True)\n",
        "\n",
        "print(\"Stats for individual barcodes:\\n\")\n",
        "print(summary_df)\n",
        "\n",
        "# convert centers to distance, then append zs on axis\n",
        "centers  = [(project.tx + template_size/2, project.ty + template_size/2) for project in ps]\n",
        "centers = np.array(centers)\n",
        "avgscale = np.mean([project.scale for project in ps])\n",
        "centers = centers * (um_per_pixel / avgscale) # convert fluorescent units from pixels to um\n",
        "centers_z = np.column_stack((centers, zs))"
      ]
    },
    {
      "cell_type": "code",
      "execution_count": 51,
      "metadata": {
        "colab": {
          "base_uri": "https://localhost:8080/"
        },
        "id": "f2y309FTn3Y2",
        "outputId": "a2585870-0004-4e18-ee39-9a6567907745"
      },
      "outputs": [
        {
          "name": "stdout",
          "output_type": "stream",
          "text": [
            "Transformation coefficients:\n",
            "Vector u: [0.9898098141499, -0.20648898705143098, 7.828083447596932e-14]\n",
            "Vector v: [0.04214533755918909, 1.0270001463964253, -3.112916410108851e-14]\n",
            "Vector h: [-850.625131627435, -1980.5578118495184, 1.0000000000002434]\n"
          ]
        }
      ],
      "source": [
        "# UVH mapping\n",
        "# for a point u,v:\n",
        "# [x,y,z] = vec_u * u + vec_v * v + vec_h\n",
        "\n",
        "u = np.array([x[0] for x in centers_z])\n",
        "v = np.array([x[1] for x in centers_z])\n",
        "\n",
        "x = np.array([x[0] for x in real_centers])\n",
        "y = np.array([x[1] for x in real_centers])\n",
        "z = np.ones_like(y)\n",
        "\n",
        "# Number of points\n",
        "n = u.shape[0]\n",
        "\n",
        "A = np.zeros((3 * n, 9))\n",
        "for i in range(n):\n",
        "    A[3 * i] = [u[i], v[i], 1, 0, 0, 0, 0, 0, 0]      # x equation\n",
        "    A[3 * i + 1] = [0, 0, 0, u[i], v[i], 1, 0, 0, 0]  # y equation\n",
        "    A[3 * i + 2] = [0, 0, 0, 0, 0, 0, u[i], v[i], 1]  # z equation\n",
        "\n",
        "# Output vector b\n",
        "b = np.zeros(3 * n)\n",
        "for i in range(n):\n",
        "    b[3 * i] = x[i]\n",
        "    b[3 * i + 1] = y[i]\n",
        "    b[3 * i + 2] = z[i]\n",
        "\n",
        "# Solve using least squares\n",
        "M, residuals, rank, s = np.linalg.lstsq(A, b, rcond=None) # TODO check that lol\n",
        "\n",
        "ux, vx, hx, uy, vy, hy, uz, vz, hz = M\n",
        "\n",
        "print(\"Transformation coefficients:\")\n",
        "print(\"Vector u:\", [ux, uy, uz])\n",
        "print(\"Vector v:\", [vx, vy, vz])\n",
        "print(\"Vector h:\", [hx, hy, hz])"
      ]
    },
    {
      "cell_type": "code",
      "execution_count": 58,
      "metadata": {
        "id": "gTsM3QgZWIqn"
      },
      "outputs": [],
      "source": [
        "def project_onto_flat(u, v, h, points):\n",
        "    u_coords = points[:, 0]\n",
        "    v_coords = points[:, 1]\n",
        "\n",
        "    # Project each (u, v) pair using the vectors u and v\n",
        "    projected = np.outer(u_coords, u) + np.outer(v_coords, v) + h\n",
        "    return projected\n",
        "\n",
        "def compute_avg_error(a, b):\n",
        "    assert a.shape == b.shape, \"Input arrays must have the same shape\"\n",
        "    if a.shape[1] == 3:\n",
        "        a = a[:, :2]\n",
        "        b = b[:, :2]\n",
        "    return np.mean(np.linalg.norm(a - b, axis=1))\n",
        "\n",
        "u = np.array([ux, uy, uz])\n",
        "v = np.array([vx, vy, vz])\n",
        "h = np.array([hx, hy, hz])\n",
        "\n",
        "projected = project_onto_flat(u,v,h, centers_z)\n",
        "err = compute_avg_error(projected[:,:-1], real_centers[:,:-1])\n",
        "assert round(err) == 0"
      ]
    },
    {
      "cell_type": "code",
      "execution_count": null,
      "metadata": {
        "id": "K1yhitd1yzdj"
      },
      "outputs": [],
      "source": []
    }
  ],
  "metadata": {
    "colab": {
      "include_colab_link": true,
      "provenance": []
    },
    "kernelspec": {
      "display_name": "Python 3",
      "name": "python3"
    },
    "language_info": {
      "name": "python"
    }
  },
  "nbformat": 4,
  "nbformat_minor": 0
}
