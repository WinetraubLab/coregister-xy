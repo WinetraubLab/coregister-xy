{
  "nbformat": 4,
  "nbformat_minor": 0,
  "metadata": {
    "colab": {
      "provenance": [],
      "include_colab_link": true
    },
    "kernelspec": {
      "name": "python3",
      "display_name": "Python 3"
    },
    "language_info": {
      "name": "python"
    }
  },
  "cells": [
    {
      "cell_type": "markdown",
      "metadata": {
        "id": "view-in-github",
        "colab_type": "text"
      },
      "source": [
        "<a href=\"https://colab.research.google.com/github/WinetraubLab/coregister-xy/blob/main/coregister_xy_2.ipynb\" target=\"_parent\"><img src=\"https://colab.research.google.com/assets/colab-badge.svg\" alt=\"Open In Colab\"/></a>"
      ]
    },
    {
      "cell_type": "markdown",
      "source": [
        "\n",
        "\n",
        "# Overview\n",
        "Use this notebook to get alignment information from ImageJ image registration. Print stats for individual barcodes."
      ],
      "metadata": {
        "id": "nyWsnQAS6ajW"
      }
    },
    {
      "cell_type": "code",
      "source": [
        "from google.colab import drive\n",
        "drive.mount('/content/drive')"
      ],
      "metadata": {
        "colab": {
          "base_uri": "https://localhost:8080/"
        },
        "id": "RvHRptO-TPsS",
        "outputId": "f6ec9079-1c0f-4272-908b-a9ecdd8e228c"
      },
      "execution_count": 1,
      "outputs": [
        {
          "output_type": "stream",
          "name": "stdout",
          "text": [
            "Mounted at /content/drive\n"
          ]
        }
      ]
    },
    {
      "cell_type": "code",
      "execution_count": 32,
      "metadata": {
        "id": "QAJZaJhi57wu"
      },
      "outputs": [],
      "source": [
        "# @title Notebook Inputs { display-mode: \"form\" }\n",
        "## @markdown How to use this notebook: [See Instructions]()\n",
        "import numpy as np\n",
        "\n",
        "# @markdown Input Paths:\n",
        "# @markdown Leave either path blank to load a file from local file system.\n",
        "trakem_xml_path = \"/content/drive/Shareddrives/Yolab - Current Projects/_Datasets/2024-09-04 Multiple Barcode Alignment/align3.xml\" # @param {type:\"string\"}\n",
        "fluorescent_patch_number = 8 # @param {type:\"integer\"}\n",
        "# @markdown For the alignment of multiple templates to one fluorescent image, specify the patch numbers of each template in the TrakEM stack.\n",
        "# template_patch_1 = 11 # @param {type:\"integer\"}\n",
        "# template_patch_2 = 14 # @param {type:\"integer\"}\n",
        "# template_patch_3 = 17 # @param {type:\"integer\"}\n",
        "\n",
        "# @markdown Enter template patch IDs in order, separated by commas. Example: 11, 14, 17\n",
        "template_patch_list = \"11, 14, 17\" # @param {type:\"string\"}\n",
        "\n",
        "# @markdown Z-depth of each template, in um. Enter as a comma-separated list. Example: 50, 52, 54\n",
        "template_z_list = \"68, 52, 56\" # @param {type:\"string\"}\n",
        "\n",
        "# @markdown Real (x,y) locations of photobleach barcode centers, as specified by script used to photobleach. Enter in format: (1000,0), (0, 1000), (0,0)\n",
        "real_centers = (1000,0), (0, 1000), (0,0) # @param\n",
        "\n",
        "real_centers = np.array(real_centers)\n",
        "real_centers = np.column_stack((real_centers, np.zeros(real_centers.shape[0])))\n",
        "\n",
        "template_size = 401\n",
        "um_per_pixel = 2\n",
        "\n",
        "from google.colab import drive\n",
        "from google.colab import files\n",
        "# drive.mount('/content/drive/')\n",
        "\n",
        "assert len(template_patch_list) == len(template_z_list), \"Number of elements in template patch list and template z list must match\"\n",
        "\n",
        "if not trakem_xml_path:\n",
        "  print(\"Upload saved TrakEM project:\")\n",
        "  uploaded = files.upload()\n",
        "  trakem_xml_path = list(uploaded.keys())[0]\n",
        "  trakem_xml_path = os.path.join(os.getcwd(), trakem_xml_path)\n"
      ]
    },
    {
      "cell_type": "code",
      "source": [
        "# @title Environment Setup\n",
        "!git clone https://github.com/WinetraubLab/coregister-xy.git\n",
        "%cd coregister-xy\n",
        "\n",
        "# from plane.fit_plane import FitPlane\n",
        "from plane.parse_xml import ParseXML\n",
        "# from plane.fit_multi_plane import FitMultiPlane\n",
        "# from plane.fit_plane import FitPlane\n",
        "import matplotlib.pyplot as plt\n",
        "import os\n",
        "from google.colab import files\n",
        "import math\n",
        "\n",
        "%cd .."
      ],
      "metadata": {
        "colab": {
          "base_uri": "https://localhost:8080/"
        },
        "id": "nwknGqCz9QVO",
        "outputId": "41a13fde-1578-4331-c4fe-365068b066e4"
      },
      "execution_count": 3,
      "outputs": [
        {
          "output_type": "stream",
          "name": "stdout",
          "text": [
            "Cloning into 'coregister-xy'...\n",
            "remote: Enumerating objects: 514, done.\u001b[K\n",
            "remote: Counting objects: 100% (118/118), done.\u001b[K\n",
            "remote: Compressing objects: 100% (61/61), done.\u001b[K\n",
            "remote: Total 514 (delta 84), reused 76 (delta 57), pack-reused 396 (from 1)\u001b[K\n",
            "Receiving objects: 100% (514/514), 1.04 MiB | 3.22 MiB/s, done.\n",
            "Resolving deltas: 100% (299/299), done.\n",
            "/content/coregister-xy\n",
            "/content\n"
          ]
        }
      ]
    },
    {
      "cell_type": "code",
      "source": [
        "import pandas as pd\n",
        "\n",
        "# @title Compute Physical Transform Parameters, relative to image origin\n",
        "ps = []\n",
        "templates = [int(x) for x in template_patch_list.split(\",\")]\n",
        "zs = [float(x) for x in template_z_list.split(\",\")]\n",
        "num_templates = len(templates)\n",
        "\n",
        "ps = []\n",
        "for i in range(0,num_templates):\n",
        "    project = ParseXML.from_imagej_xml(trakem_xml_path, fluorescent_patch_number, templates[i], None, True)\n",
        "    ps.append(project)\n",
        "\n",
        "projects_data = {\n",
        "    \"Template ID\": [i for i in range(1, num_templates+1)],\n",
        "    \"Patch Number\": [t for t in templates],\n",
        "    \"Z (um)\": [z for z in zs],\n",
        "    \"Center (x)\": [project.tx + template_size/2 for project in ps],\n",
        "    \"Center (y)\": [project.ty + template_size/2 for project in ps],\n",
        "    \"Rotation (deg)\": [project.theta_deg for project in ps],\n",
        "    \"Scaling\": [project.scale for project in ps],\n",
        "    \"Shear magnitude\": [project.shear_magnitude for project in ps],\n",
        "    \"Shear vector (x)\": [project.shear_vector[0] for project in ps],\n",
        "    \"Shear vector (y)\": [project.shear_vector[1] for project in ps]\n",
        "}\n",
        "\n",
        "columns_to_summarize = [\"Z (um)\", \"Rotation (deg)\", \"Scaling\", \"Shear magnitude\", \"Shear vector (x)\", \"Shear vector (y)\"]\n",
        "\n",
        "# Create DataFrame\n",
        "df = pd.DataFrame(projects_data)\n",
        "\n",
        "# Compute mean and standard deviation for selected columns only\n",
        "mean_row = df[columns_to_summarize].mean()\n",
        "std_row = df[columns_to_summarize].std()\n",
        "\n",
        "# Append mean and std as new rows for selected columns only\n",
        "summary_df = df.copy()\n",
        "summary_df.loc['Mean', columns_to_summarize] = mean_row\n",
        "summary_df.loc['StDev', columns_to_summarize] = std_row\n",
        "summary_df = summary_df.round(2)\n",
        "summary_df = summary_df.replace(np.nan, '', regex=True)\n",
        "\n",
        "print(\"Stats for individual barcodes:\\n\")\n",
        "print(summary_df)\n",
        "\n",
        "# convert centers to distance, then append zs on axis\n",
        "centers  = [(project.tx + template_size/2, project.ty + template_size/2) for project in ps]\n",
        "centers = np.array(centers)\n",
        "avgscale = np.mean([project.scale for project in ps])\n",
        "centers = centers * (um_per_pixel / avgscale) # convert fluorescent units from pixels to um\n",
        "centers_z = np.column_stack((centers, zs))"
      ],
      "metadata": {
        "colab": {
          "base_uri": "https://localhost:8080/"
        },
        "id": "kCGaqUR4jbjJ",
        "outputId": "16d099f4-9642-43f1-eca9-3b78aaec488b"
      },
      "execution_count": 24,
      "outputs": [
        {
          "output_type": "stream",
          "name": "stdout",
          "text": [
            "Stats for individual barcodes:\n",
            "\n",
            "      Template ID Patch Number  Z (um) Center (x) Center (y)  Rotation (deg)  \\\n",
            "0             1.0         11.0   68.00     698.93    2920.88            7.28   \n",
            "1             2.0         14.0   52.00    1658.59    3113.83            7.32   \n",
            "2             3.0         17.0   56.00     738.31    1995.97            6.21   \n",
            "Mean                             58.67                                  6.94   \n",
            "StDev                             8.33                                  0.63   \n",
            "\n",
            "       Scaling  Shear magnitude  Shear vector (x)  Shear vector (y)  \n",
            "0         1.96            -0.05             -0.99             -0.10  \n",
            "1         1.87             0.03              0.72              0.70  \n",
            "2         1.92             0.03              0.79             -0.62  \n",
            "Mean      1.92             0.00              0.17             -0.01  \n",
            "StDev     0.04             0.05              1.01              0.66  \n"
          ]
        }
      ]
    },
    {
      "cell_type": "code",
      "source": [
        "# UVH mapping\n",
        "# for a point u,v:\n",
        "# [x,y,z] = vec_u dot u + vec_v dot v + vec_h\n",
        "\n",
        "u = np.array([x[0] for x in centers_z])\n",
        "v = np.array([x[1] for x in centers_z])\n",
        "\n",
        "x = np.array([x[0] for x in real_centers])\n",
        "y = np.array([x[1] for x in real_centers])\n",
        "z = np.ones_like(y)\n",
        "\n",
        "# Number of points\n",
        "n = u.shape[0]\n",
        "\n",
        "A = np.zeros((3 * n, 9))\n",
        "for i in range(n):\n",
        "    A[3 * i] = [u[i], v[i], 1, 0, 0, 0, 0, 0, 0]      # x equation\n",
        "    A[3 * i + 1] = [0, 0, 0, u[i], v[i], 1, 0, 0, 0]  # y equation\n",
        "    A[3 * i + 2] = [0, 0, 0, 0, 0, 0, u[i], v[i], 1]  # z equation\n",
        "\n",
        "# Output vector b\n",
        "b = np.zeros(3 * n)\n",
        "for i in range(n):\n",
        "    b[3 * i] = x[i]\n",
        "    b[3 * i + 1] = y[i]\n",
        "    b[3 * i + 2] = z[i]\n",
        "\n",
        "# Solve using least squares\n",
        "M, residuals, rank, s = np.linalg.lstsq(A, b, rcond=None) # TODO check that lol\n",
        "\n",
        "ux, vx, hx, uy, vy, hy, uz, vz, hz = M\n",
        "\n",
        "print(\"Transformation coefficients:\")\n",
        "print(\"Vector u:\", [ux, uy, uz])\n",
        "print(\"Vector v:\", [vx, vy, vz])\n",
        "print(\"Vector h:\", [hx, hy, hz])"
      ],
      "metadata": {
        "colab": {
          "base_uri": "https://localhost:8080/"
        },
        "id": "f2y309FTn3Y2",
        "outputId": "2ada642c-cec9-446d-9309-186fa8177057"
      },
      "execution_count": 34,
      "outputs": [
        {
          "output_type": "stream",
          "name": "stdout",
          "text": [
            "Transformation coefficients:\n",
            "Vector u: [10.993892282065524, -0.11104941699056292, -3.56545464507217e-14]\n",
            "Vector v: [-0.4441976679622457, 10.10549694614104, -6.224827693965377e-14]\n",
            "Vector h: [-10.105496946141018, -20.09994447529151, 0.9999999999999986]\n"
          ]
        }
      ]
    },
    {
      "cell_type": "code",
      "source": [
        "def project_onto_flat(u, v, h, points):\n",
        "    u_coords = points[:, 0]\n",
        "    v_coords = points[:, 1]\n",
        "\n",
        "    # Project each (u, v) pair using the transformation coefficients\n",
        "    projected = np.outer(u_coords, u) + np.outer(v_coords, v) + h\n",
        "    return projected\n",
        "\n",
        "u = np.array([ux, uy, uz])\n",
        "v = np.array([vx, vy, vz])\n",
        "h = np.array([hx, hy, hz])\n",
        "\n",
        "print(project_onto_flat(u,v,h, centers_z))"
      ],
      "metadata": {
        "colab": {
          "base_uri": "https://localhost:8080/"
        },
        "id": "gTsM3QgZWIqn",
        "outputId": "eb4f2723-26c5-4766-bb6b-fb28be1238fc"
      },
      "execution_count": 26,
      "outputs": [
        {
          "output_type": "stream",
          "name": "stdout",
          "text": [
            "[[-2.38742359e-12  1.00000000e+03  1.00000000e+00]\n",
            " [ 1.00000000e+03  1.00000000e+03  1.00000000e+00]\n",
            " [ 0.00000000e+00  5.11590770e-11  1.00000000e+00]]\n"
          ]
        }
      ]
    },
    {
      "cell_type": "code",
      "source": [
        "# def get_plot_plane_equation_from_points(points, plot=True):\n",
        "\n",
        "#     # Get plane EQ and PLOT it\n",
        "\n",
        "#     p1, p2, p3 = points\n",
        "#     v1 = p3 - p1\n",
        "#     v2 = p2 - p1\n",
        "#     normal = np.cross(v1, v2)\n",
        "#     a,b,c = normal\n",
        "#     d = -np.dot(normal, p3)\n",
        "\n",
        "#     # Create the figure\n",
        "#     fig = plt.figure()\n",
        "#     xx, yy = np.meshgrid(np.arange(0,np.max(points)+500, 100), np.arange(0,np.max(points)+500, 100))\n",
        "#     z = (-normal[0] * xx - normal[1] * yy - d) * 1. /normal[2]\n",
        "\n",
        "#     if plot:\n",
        "#         # Add an axes\n",
        "#         ax = fig.add_subplot(111,projection='3d')\n",
        "\n",
        "#         # plot the surface\n",
        "#         ax.plot_surface(xx, yy, z, alpha=0.2)\n",
        "#         ax.set_zlim(0, 250)\n",
        "\n",
        "#         # and plot the point\n",
        "#         ax.scatter(p2[0] , p2[1] , p2[2],  color='green')\n",
        "#         ax.scatter(p1[0] , p1[1] , p1[2],  color='red')\n",
        "#         ax.scatter(p3[0] , p3[1] , p3[2],  color='blue')\n",
        "#         plt.show()\n",
        "\n",
        "#     return normal[0], normal[1], normal[2], d\n",
        "\n",
        "# def get_plane_info(points):\n",
        "#     A, B, C, D = get_plot_plane_equation_from_points(points)\n",
        "\n",
        "#     for point in points:\n",
        "#         x, y, z = point\n",
        "#         result = A * x + B * y + C * z + D\n",
        "#         assert round(result) == 0\n",
        "\n",
        "#     norm_n = np.sqrt(A**2 + B**2 + C**2)\n",
        "\n",
        "#     # Angles with the axes (in radians)\n",
        "#     alpha = np.arccos(abs(A) / norm_n)\n",
        "#     beta = np.arccos(abs(B) / norm_n)\n",
        "#     gamma = np.arccos(abs(C) / norm_n)\n",
        "\n",
        "#     # Convert to degrees\n",
        "#     alpha_deg = np.degrees(alpha)\n",
        "#     beta_deg = np.degrees(beta)\n",
        "#     gamma_deg = np.degrees(gamma)\n",
        "\n",
        "#     # Complementary angles (plane angles with axes)\n",
        "#     theta_x = 90 - alpha_deg\n",
        "#     theta_y = 90 - beta_deg\n",
        "#     theta_z = 90 - gamma_deg\n",
        "\n",
        "#     norm = np.linalg.norm(np.array([A,B,C]))\n",
        "#     plane_norm = np.array([A/norm, B/norm, C/norm])\n",
        "\n",
        "#     # find theta_x and theta_y to rotate [0,0,1] to match plane_norm\n",
        "#     # Order is important: do y rotation first then x\n",
        "#     theta_y = -np.arctan2(A, C)\n",
        "#     theta_x = np.arctan2(B, np.sqrt(A**2 + C**2))\n",
        "#     theta_y_deg = np.degrees(theta_y)\n",
        "#     theta_x_deg = np.degrees(theta_x)\n",
        "\n",
        "#     print(f\"Rotate {theta_y_deg:.2f} degrees around y-axis, then rotate {theta_x_deg:.2f} degrees around x-axis\")\n",
        "#     print()\n",
        "\n",
        "# get_plane_info(tissue_slice_coords)"
      ],
      "metadata": {
        "colab": {
          "base_uri": "https://localhost:8080/",
          "height": 180
        },
        "id": "bb6J-phXrdnO",
        "outputId": "66b6d085-348a-4c99-9671-80756a49ad43"
      },
      "execution_count": 16,
      "outputs": [
        {
          "output_type": "error",
          "ename": "NameError",
          "evalue": "name 'tissue_slice_coords' is not defined",
          "traceback": [
            "\u001b[0;31m---------------------------------------------------------------------------\u001b[0m",
            "\u001b[0;31mNameError\u001b[0m                                 Traceback (most recent call last)",
            "\u001b[0;32m<ipython-input-16-c972a8778dd3>\u001b[0m in \u001b[0;36m<cell line: 71>\u001b[0;34m()\u001b[0m\n\u001b[1;32m     69\u001b[0m     \u001b[0mprint\u001b[0m\u001b[0;34m(\u001b[0m\u001b[0;34m)\u001b[0m\u001b[0;34m\u001b[0m\u001b[0;34m\u001b[0m\u001b[0m\n\u001b[1;32m     70\u001b[0m \u001b[0;34m\u001b[0m\u001b[0m\n\u001b[0;32m---> 71\u001b[0;31m \u001b[0mget_plane_info\u001b[0m\u001b[0;34m(\u001b[0m\u001b[0mtissue_slice_coords\u001b[0m\u001b[0;34m)\u001b[0m\u001b[0;34m\u001b[0m\u001b[0;34m\u001b[0m\u001b[0m\n\u001b[0m",
            "\u001b[0;31mNameError\u001b[0m: name 'tissue_slice_coords' is not defined"
          ]
        }
      ]
    }
  ]
}