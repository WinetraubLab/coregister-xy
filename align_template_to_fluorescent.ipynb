{
  "nbformat": 4,
  "nbformat_minor": 0,
  "metadata": {
    "colab": {
      "provenance": [],
      "mount_file_id": "1M9VzWLlLKo5msJcA3aGqRUbwfGM31ZfM",
      "authorship_tag": "ABX9TyMREo9FSFUkHy6zL5ixU9QP",
      "include_colab_link": true
    },
    "kernelspec": {
      "name": "python3",
      "display_name": "Python 3"
    },
    "language_info": {
      "name": "python"
    }
  },
  "cells": [
    {
      "cell_type": "markdown",
      "metadata": {
        "id": "view-in-github",
        "colab_type": "text"
      },
      "source": [
        "<a href=\"https://colab.research.google.com/github/WinetraubLab/coregister-xy/blob/zerlina-compute-physical/align_template_to_fluorescent.ipynb\" target=\"_parent\"><img src=\"https://colab.research.google.com/assets/colab-badge.svg\" alt=\"Open In Colab\"/></a>"
      ]
    },
    {
      "cell_type": "markdown",
      "source": [
        "<!-- <a href=\"https://colab.research.google.com/github/WinetraubLab/coregister-xy/blob/zerlina-compute-physical/compute_physical.ipynb\" target=\"_blank\">\n",
        "<img src=\"https://colab.research.google.com/assets/colab-badge.svg\" alt=\"Open in Colab\"/></a>\n",
        "\n",
        "<a href=\"https://github.com/WinetraubLab/coregister-xy/blob/zerlina-compute-physical/compute_physical.ipynb\" target=\"_blank\">\n",
        "  <img src=\"https://img.shields.io/badge/view%20in-GitHub-blue\" alt=\"View in GitHub\"/>\n",
        "</a> -->\n",
        "\n",
        "# Overview\n",
        "Use this notebook to get alignment information from ImageJ image registration."
      ],
      "metadata": {
        "id": "nyWsnQAS6ajW"
      }
    },
    {
      "cell_type": "code",
      "execution_count": 32,
      "metadata": {
        "colab": {
          "base_uri": "https://localhost:8080/",
          "height": 73
        },
        "id": "QAJZaJhi57wu",
        "outputId": "b47f8b13-bc0f-45cf-b26c-ca88ab391bd3"
      },
      "outputs": [
        {
          "output_type": "stream",
          "name": "stdout",
          "text": [
            "Drive already mounted at /content/drive/; to attempt to forcibly remount, call drive.mount(\"/content/drive/\", force_remount=True).\n",
            "Upload saved landmark file 2 :\n"
          ]
        },
        {
          "output_type": "display_data",
          "data": {
            "text/plain": [
              "<IPython.core.display.HTML object>"
            ],
            "text/html": [
              "\n",
              "     <input type=\"file\" id=\"files-dba4071d-aa2d-4b45-9a57-905035163494\" name=\"files[]\" multiple disabled\n",
              "        style=\"border:none\" />\n",
              "     <output id=\"result-dba4071d-aa2d-4b45-9a57-905035163494\">\n",
              "      Upload widget is only available when the cell has been executed in the\n",
              "      current browser session. Please rerun this cell to enable.\n",
              "      </output>\n",
              "      <script>// Copyright 2017 Google LLC\n",
              "//\n",
              "// Licensed under the Apache License, Version 2.0 (the \"License\");\n",
              "// you may not use this file except in compliance with the License.\n",
              "// You may obtain a copy of the License at\n",
              "//\n",
              "//      http://www.apache.org/licenses/LICENSE-2.0\n",
              "//\n",
              "// Unless required by applicable law or agreed to in writing, software\n",
              "// distributed under the License is distributed on an \"AS IS\" BASIS,\n",
              "// WITHOUT WARRANTIES OR CONDITIONS OF ANY KIND, either express or implied.\n",
              "// See the License for the specific language governing permissions and\n",
              "// limitations under the License.\n",
              "\n",
              "/**\n",
              " * @fileoverview Helpers for google.colab Python module.\n",
              " */\n",
              "(function(scope) {\n",
              "function span(text, styleAttributes = {}) {\n",
              "  const element = document.createElement('span');\n",
              "  element.textContent = text;\n",
              "  for (const key of Object.keys(styleAttributes)) {\n",
              "    element.style[key] = styleAttributes[key];\n",
              "  }\n",
              "  return element;\n",
              "}\n",
              "\n",
              "// Max number of bytes which will be uploaded at a time.\n",
              "const MAX_PAYLOAD_SIZE = 100 * 1024;\n",
              "\n",
              "function _uploadFiles(inputId, outputId) {\n",
              "  const steps = uploadFilesStep(inputId, outputId);\n",
              "  const outputElement = document.getElementById(outputId);\n",
              "  // Cache steps on the outputElement to make it available for the next call\n",
              "  // to uploadFilesContinue from Python.\n",
              "  outputElement.steps = steps;\n",
              "\n",
              "  return _uploadFilesContinue(outputId);\n",
              "}\n",
              "\n",
              "// This is roughly an async generator (not supported in the browser yet),\n",
              "// where there are multiple asynchronous steps and the Python side is going\n",
              "// to poll for completion of each step.\n",
              "// This uses a Promise to block the python side on completion of each step,\n",
              "// then passes the result of the previous step as the input to the next step.\n",
              "function _uploadFilesContinue(outputId) {\n",
              "  const outputElement = document.getElementById(outputId);\n",
              "  const steps = outputElement.steps;\n",
              "\n",
              "  const next = steps.next(outputElement.lastPromiseValue);\n",
              "  return Promise.resolve(next.value.promise).then((value) => {\n",
              "    // Cache the last promise value to make it available to the next\n",
              "    // step of the generator.\n",
              "    outputElement.lastPromiseValue = value;\n",
              "    return next.value.response;\n",
              "  });\n",
              "}\n",
              "\n",
              "/**\n",
              " * Generator function which is called between each async step of the upload\n",
              " * process.\n",
              " * @param {string} inputId Element ID of the input file picker element.\n",
              " * @param {string} outputId Element ID of the output display.\n",
              " * @return {!Iterable<!Object>} Iterable of next steps.\n",
              " */\n",
              "function* uploadFilesStep(inputId, outputId) {\n",
              "  const inputElement = document.getElementById(inputId);\n",
              "  inputElement.disabled = false;\n",
              "\n",
              "  const outputElement = document.getElementById(outputId);\n",
              "  outputElement.innerHTML = '';\n",
              "\n",
              "  const pickedPromise = new Promise((resolve) => {\n",
              "    inputElement.addEventListener('change', (e) => {\n",
              "      resolve(e.target.files);\n",
              "    });\n",
              "  });\n",
              "\n",
              "  const cancel = document.createElement('button');\n",
              "  inputElement.parentElement.appendChild(cancel);\n",
              "  cancel.textContent = 'Cancel upload';\n",
              "  const cancelPromise = new Promise((resolve) => {\n",
              "    cancel.onclick = () => {\n",
              "      resolve(null);\n",
              "    };\n",
              "  });\n",
              "\n",
              "  // Wait for the user to pick the files.\n",
              "  const files = yield {\n",
              "    promise: Promise.race([pickedPromise, cancelPromise]),\n",
              "    response: {\n",
              "      action: 'starting',\n",
              "    }\n",
              "  };\n",
              "\n",
              "  cancel.remove();\n",
              "\n",
              "  // Disable the input element since further picks are not allowed.\n",
              "  inputElement.disabled = true;\n",
              "\n",
              "  if (!files) {\n",
              "    return {\n",
              "      response: {\n",
              "        action: 'complete',\n",
              "      }\n",
              "    };\n",
              "  }\n",
              "\n",
              "  for (const file of files) {\n",
              "    const li = document.createElement('li');\n",
              "    li.append(span(file.name, {fontWeight: 'bold'}));\n",
              "    li.append(span(\n",
              "        `(${file.type || 'n/a'}) - ${file.size} bytes, ` +\n",
              "        `last modified: ${\n",
              "            file.lastModifiedDate ? file.lastModifiedDate.toLocaleDateString() :\n",
              "                                    'n/a'} - `));\n",
              "    const percent = span('0% done');\n",
              "    li.appendChild(percent);\n",
              "\n",
              "    outputElement.appendChild(li);\n",
              "\n",
              "    const fileDataPromise = new Promise((resolve) => {\n",
              "      const reader = new FileReader();\n",
              "      reader.onload = (e) => {\n",
              "        resolve(e.target.result);\n",
              "      };\n",
              "      reader.readAsArrayBuffer(file);\n",
              "    });\n",
              "    // Wait for the data to be ready.\n",
              "    let fileData = yield {\n",
              "      promise: fileDataPromise,\n",
              "      response: {\n",
              "        action: 'continue',\n",
              "      }\n",
              "    };\n",
              "\n",
              "    // Use a chunked sending to avoid message size limits. See b/62115660.\n",
              "    let position = 0;\n",
              "    do {\n",
              "      const length = Math.min(fileData.byteLength - position, MAX_PAYLOAD_SIZE);\n",
              "      const chunk = new Uint8Array(fileData, position, length);\n",
              "      position += length;\n",
              "\n",
              "      const base64 = btoa(String.fromCharCode.apply(null, chunk));\n",
              "      yield {\n",
              "        response: {\n",
              "          action: 'append',\n",
              "          file: file.name,\n",
              "          data: base64,\n",
              "        },\n",
              "      };\n",
              "\n",
              "      let percentDone = fileData.byteLength === 0 ?\n",
              "          100 :\n",
              "          Math.round((position / fileData.byteLength) * 100);\n",
              "      percent.textContent = `${percentDone}% done`;\n",
              "\n",
              "    } while (position < fileData.byteLength);\n",
              "  }\n",
              "\n",
              "  // All done.\n",
              "  yield {\n",
              "    response: {\n",
              "      action: 'complete',\n",
              "    }\n",
              "  };\n",
              "}\n",
              "\n",
              "scope.google = scope.google || {};\n",
              "scope.google.colab = scope.google.colab || {};\n",
              "scope.google.colab._files = {\n",
              "  _uploadFiles,\n",
              "  _uploadFilesContinue,\n",
              "};\n",
              "})(self);\n",
              "</script> "
            ]
          },
          "metadata": {}
        }
      ],
      "source": [
        "# @title Notebook Inputs { display-mode: \"form\" }\n",
        "# @markdown How to use this notebook: [See Instructions](https://docs.google.com/document/d/1G2AME1q6XQhxQ1A2FhkfpktaSFpNXSNQB6mEWwM0YM0/edit?usp=sharing)\n",
        "\n",
        "# @markdown Input Paths:\n",
        "# @markdown Leave either path blank to load a file from local file system.\n",
        "trakem_xml_path = \"/content/drive/Shareddrives/Yolab - Current Projects/_Datasets/2024-09-04 Multiple Barcode Alignment/alignment.xml\" # @param {type:\"string\"}\n",
        "fluorescent_patch_number = 8 # @param {type:\"integer\"}\n",
        "# @markdown For the alignment of multiple templates to one fluorescent image, specify the patch numbers of each template in the TrakEM stack.\n",
        "# @markdown Set template_patch_2 to -1 if you are not aligning a second barcode.\n",
        "template_patch_1 = 11 # @param {type:\"integer\"}\n",
        "template_patch_2 = 14 # @param {type:\"integer\"}\n",
        "\n",
        "template_size = 401\n",
        "um_per_pixel = 2\n",
        "\n",
        "# @markdown Optional: Paths to XML files with exported landmarks. One file per barcode pair. Export each set of selected landmarks.\n",
        "landmarks_file_1 = \"/content/drive/Shareddrives/Yolab - Current Projects/_Datasets/2024-09-04 Multiple Barcode Alignment/landmarks1.xml\" # @param {type:\"string\"}\n",
        "landmarks_file_2 = \"/content/drive/Shareddrives/Yolab - Current Projects/_Datasets/2024-09-04 Multiple Barcode Alignment/landmarks2.xml\" # @param {type:\"string\"}\n",
        "\n",
        "landmarks_files = [landmarks_file_1, landmarks_file_2]\n",
        "\n",
        "import numpy as np\n",
        "from google.colab import drive\n",
        "from google.colab import files\n",
        "drive.mount('/content/drive/')\n",
        "\n",
        "if not trakem_xml_path:\n",
        "  print(\"Upload saved TrakEM project:\")\n",
        "  uploaded = files.upload()\n",
        "  trakem_xml_path = list(uploaded.keys())[0]\n",
        "  trakem_xml_path = os.path.join(os.getcwd(), trakem_xml_path)\n",
        "\n",
        "for idx, f in enumerate(landmarks_files):\n",
        "  if not f:\n",
        "    print(\"Upload saved landmark file\", idx+1, \":\")\n",
        "    uploaded = files.upload()\n",
        "    if uploaded:\n",
        "      landmarks_f = list(uploaded.keys())[0]\n",
        "      landmarks_f = os.path.join(os.getcwd(), f)\n",
        "      landmarks_files.append(landmarks_f)\n"
      ]
    },
    {
      "cell_type": "code",
      "source": [
        "# @title Environment Setup\n",
        "!pip install transforms3d\n",
        "!git clone -b zerlina-compute-physical https://github.com/WinetraubLab/coregister-xy.git\n",
        "%cd coregister-xy\n",
        "\n",
        "# from plane.fit_plane import FitPlane\n",
        "from plane.parse_xml import ParseXML\n",
        "import matplotlib.pyplot as plt\n",
        "import os\n",
        "from google.colab import files\n",
        "import math\n",
        "\n",
        "%cd .."
      ],
      "metadata": {
        "colab": {
          "base_uri": "https://localhost:8080/"
        },
        "id": "nwknGqCz9QVO",
        "outputId": "f8977380-bfc0-4ff4-e0dc-a340e267019f"
      },
      "execution_count": null,
      "outputs": [
        {
          "output_type": "stream",
          "name": "stdout",
          "text": [
            "Requirement already satisfied: transforms3d in /usr/local/lib/python3.10/dist-packages (0.4.2)\n",
            "Requirement already satisfied: numpy>=1.15 in /usr/local/lib/python3.10/dist-packages (from transforms3d) (1.26.4)\n",
            "fatal: destination path 'coregister-xy' already exists and is not an empty directory.\n",
            "/content/coregister-xy\n",
            "/content\n"
          ]
        }
      ]
    },
    {
      "cell_type": "code",
      "source": [
        "# TEMPORARY-- RUN FOR SETUP WITHOUT GITHUB.\n",
        "!pip install transforms3d\n",
        "from parse_xml import ParseXML\n",
        "import matplotlib.pyplot as plt\n",
        "import os\n",
        "from google.colab import files\n",
        "import math"
      ],
      "metadata": {
        "colab": {
          "base_uri": "https://localhost:8080/"
        },
        "id": "_G-7S6h9OhY8",
        "outputId": "3804ff11-5ecf-4186-95da-37c45b857553"
      },
      "execution_count": 9,
      "outputs": [
        {
          "output_type": "stream",
          "name": "stdout",
          "text": [
            "Requirement already satisfied: transforms3d in /usr/local/lib/python3.10/dist-packages (0.4.2)\n",
            "Requirement already satisfied: numpy>=1.15 in /usr/local/lib/python3.10/dist-packages (from transforms3d) (1.26.4)\n"
          ]
        }
      ]
    },
    {
      "cell_type": "code",
      "source": [
        "# @title Compute Physical Transform Parameters, relative to image origin\n",
        "ps = []\n",
        "templates = [template_patch_1, template_patch_2]\n",
        "thetas = []\n",
        "dist_per_pixel_arr = []\n",
        "for i in range(0,2):\n",
        "  if templates[i] == -1:\n",
        "    continue\n",
        "  print(\"Template \", i, \" (patch number \", templates[i], \"):\")\n",
        "  if len(landmarks_files) > i:\n",
        "    project = ParseXML.extract_data(trakem_xml_path, fluorescent_patch_number, templates[i], landmarks_files[i], True)\n",
        "    if landmarks_files[i]:\n",
        "      error_px = project.find_transformation_error()\n",
        "      avg_um_px = np.mean([project.calc_real_scale(um_per_pixel, 0), project.calc_real_scale(um_per_pixel, 90)])\n",
        "      print(\"Alignment Error: \", \"{:.2f}\".format(error_px), \"px /\", \"{:.2f}\".format(avg_um_px * error_px), \"um\\n\")\n",
        "    else:\n",
        "      print()\n",
        "  else:\n",
        "    project = ParseXML.extract_data(trakem_xml_path, fluorescent_patch_number, templates[i], None, False)\n",
        "  ps.append(project)\n",
        "  tx, ty, theta_deg, sx, sy, shear = project.compute_physical_params()\n",
        "  print(\"Center (x,y): \", \"{:.2f}\".format(tx + template_size/2),\", \", \"{:.2f}\".format(ty + template_size/2), \"px\")\n",
        "  print(\"Rotation (deg): \", \"{:.2f}\".format(theta_deg))\n",
        "  thetas.append(theta_deg)\n",
        "  print(\"Scale x: \", \"{:.2f}\".format(sx))\n",
        "  print(\"Scale y: \", \"{:.2f}\".format(sy))\n",
        "  print(\"Shear: \", \"{:.2f}\".format(shear))\n",
        "  print(\"\\n\")\n",
        "  i += 1"
      ],
      "metadata": {
        "colab": {
          "base_uri": "https://localhost:8080/"
        },
        "id": "toOKjjmt-Pb_",
        "outputId": "449330b8-580e-458b-c01d-a4673316cdbc"
      },
      "execution_count": 33,
      "outputs": [
        {
          "output_type": "stream",
          "name": "stdout",
          "text": [
            "Template  0  (patch number  11 ):\n",
            "Alignment Error:  4.04 px / 8.37 um\n",
            "\n",
            "Center (x,y):  821.59 ,  830.84 px\n",
            "Rotation (deg):  -6.40\n",
            "Scale x:  0.98\n",
            "Scale y:  0.95\n",
            "Shear:  0.01\n",
            "\n",
            "\n"
          ]
        }
      ]
    },
    {
      "cell_type": "code",
      "source": [
        "# @title Calculate Distance and Angle between Barcodes\n",
        "# Calc centers\n",
        "if len(ps) > 1:\n",
        "  center_original = np.array([template_size / 2, template_size / 2, 1])\n",
        "  transformed_center1 = ps[0].transform_points(center_original)\n",
        "\n",
        "  transformed_center2 = ps[1].transform_points(center_original)\n",
        "  # Calc distances\n",
        "  dist_pixel = np.linalg.norm(transformed_center1 - transformed_center2)\n",
        "  # Angle\n",
        "  line_theta_radians = np.arctan2(transformed_center1[1] - transformed_center2[1], transformed_center1[0] - transformed_center2[0])\n",
        "  line_theta_deg = np.degrees(line_theta_radians)\n",
        "\n",
        "  for project in ps:\n",
        "    dist_per_pixel_arr.append(project.calc_real_scale(um_per_pixel, line_theta_deg))\n",
        "\n",
        "  print(\"Distance: \", \"{:.2f}\".format(dist_pixel), \"pixels /\", \"{:.2f}\".format(np.mean(dist_per_pixel_arr) * dist_pixel), \"um\")\n",
        "  print(\"Angle (deg): \", \"{:.2f}\".format(line_theta_deg % 90))\n",
        "  print(\"Difference in rotation angle of barcodes (deg): \", \"{:.2f}\".format(np.abs(thetas[1] - thetas[0])))"
      ],
      "metadata": {
        "id": "bb6J-phXrdnO"
      },
      "execution_count": 34,
      "outputs": []
    }
  ]
}