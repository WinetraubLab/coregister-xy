{
  "nbformat": 4,
  "nbformat_minor": 0,
  "metadata": {
    "colab": {
      "provenance": [],
      "mount_file_id": "1M9VzWLlLKo5msJcA3aGqRUbwfGM31ZfM",
      "authorship_tag": "ABX9TyNVhutc9N94FVu4OeKFouIA",
      "include_colab_link": true
    },
    "kernelspec": {
      "name": "python3",
      "display_name": "Python 3"
    },
    "language_info": {
      "name": "python"
    }
  },
  "cells": [
    {
      "cell_type": "markdown",
      "metadata": {
        "id": "view-in-github",
        "colab_type": "text"
      },
      "source": [
        "<a href=\"https://colab.research.google.com/github/WinetraubLab/coregister-xy/blob/zerlina-compute-physical/multi_align.ipynb\" target=\"_parent\"><img src=\"https://colab.research.google.com/assets/colab-badge.svg\" alt=\"Open In Colab\"/></a>"
      ]
    },
    {
      "cell_type": "markdown",
      "source": [
        "<a href=\"https://colab.research.google.com/github/WinetraubLab/coregister-xy/blob/zerlina-compute-physical/compute_physical.ipynb\" target=\"_blank\">\n",
        "<img src=\"https://colab.research.google.com/assets/colab-badge.svg\" alt=\"Open in Colab\"/></a>\n",
        "\n",
        "<a href=\"https://github.com/WinetraubLab/coregister-xy/blob/zerlina-compute-physical/compute_physical.ipynb\" target=\"_blank\">\n",
        "  <img src=\"https://img.shields.io/badge/view%20in-GitHub-blue\" alt=\"View in GitHub\"/>\n",
        "</a>\n",
        "\n",
        "# Overview\n",
        "Use this notebook to get information from ImageJ image registration."
      ],
      "metadata": {
        "id": "nyWsnQAS6ajW"
      }
    },
    {
      "cell_type": "code",
      "execution_count": 2,
      "metadata": {
        "id": "QAJZaJhi57wu"
      },
      "outputs": [],
      "source": [
        "# @title Notebook Inputs { display-mode: \"form\" }\n",
        "# @markdown How to use this notebook: [See Instructions](https://docs.google.com/document/d/1nQlfuT4SuS7ZfISCR6euZAsNqqRRvODBTRkTy_pmWWs/edit?usp=sharing)\n",
        "\n",
        "# @markdown Input Paths:\n",
        "# @markdown Leave either path blank to load a file from local file system.\n",
        "trakem_xml_path = \"/content/drive/Shareddrives/Yolab - Current Projects/_Datasets/2024-09-04 Multiple Barcode Alignment/alignment.xml\" # @param {type:\"string\"}\n",
        "fluorescent_patch_number = 8 # @param {type:\"integer\"}\n",
        "# @markdown For the alignment of multiple templates to one fluorescent image, specify the patch numbers of each template in the TrakEM stack:\n",
        "template_patch_1 = 11 # @param {type:\"integer\"}\n",
        "template_patch_2 = 14 # @param {type:\"integer\"}\n",
        "\n",
        "template_size = 401\n",
        "\n",
        "# @markdown Optional: Paths to XML files with exported landmarks. One file per barcode pair. Export each set of selected landmarks.\n",
        "landmarks_file_1 = \"/content/drive/Shareddrives/Yolab - Current Projects/_Datasets/2024-09-04 Multiple Barcode Alignment/landmarks1.xml\" # @param {type:\"string\"}\n",
        "landmarks_file_2 = \"landmarks2.xml/content/drive/Shareddrives/Yolab - Current Projects/_Datasets/2024-09-04 Multiple Barcode Alignment/landmarks2.xml\" # @param {type:\"string\"}\n",
        "\n",
        "landmarks_files = [landmarks_file_1, landmarks_file_2]\n",
        "\n",
        "# import cv2 as cv\n",
        "# from PIL import Image\n",
        "import numpy as np\n",
        "from google.colab import drive\n",
        "drive.mount('/content/drive/')\n",
        "\n",
        "if not trakem_xml_path:\n",
        "  print(\"Upload saved TrakEM project:\")\n",
        "  uploaded = files.upload()\n",
        "  trakem_xml_path = list(uploaded.keys())[0]\n",
        "  trakem_xml_path = os.path.join(os.getcwd(), trakem_xml_path)"
      ]
    },
    {
      "cell_type": "code",
      "source": [
        "# @title Environment Setup\n",
        "!pip install transforms3d\n",
        "!git clone -b zerlina-compute-physical https://github.com/WinetraubLab/coregister-xy.git\n",
        "%cd coregister-xy\n",
        "\n",
        "# from plane.fit_plane import FitPlane\n",
        "from plane.parse_xml import ParseXML\n",
        "import matplotlib.pyplot as plt\n",
        "import os\n",
        "from google.colab import files\n",
        "import math\n",
        "\n",
        "%cd .."
      ],
      "metadata": {
        "colab": {
          "base_uri": "https://localhost:8080/"
        },
        "id": "nwknGqCz9QVO",
        "outputId": "f8977380-bfc0-4ff4-e0dc-a340e267019f"
      },
      "execution_count": null,
      "outputs": [
        {
          "output_type": "stream",
          "name": "stdout",
          "text": [
            "Requirement already satisfied: transforms3d in /usr/local/lib/python3.10/dist-packages (0.4.2)\n",
            "Requirement already satisfied: numpy>=1.15 in /usr/local/lib/python3.10/dist-packages (from transforms3d) (1.26.4)\n",
            "fatal: destination path 'coregister-xy' already exists and is not an empty directory.\n",
            "/content/coregister-xy\n",
            "/content\n"
          ]
        }
      ]
    },
    {
      "cell_type": "code",
      "source": [
        "# TEMPORARY-- RUN FOR SETUP WITHOUT GITHUB.\n",
        "!pip install transforms3d\n",
        "from parse_xml import ParseXML\n",
        "import matplotlib.pyplot as plt\n",
        "import os\n",
        "from google.colab import files\n",
        "import math"
      ],
      "metadata": {
        "colab": {
          "base_uri": "https://localhost:8080/"
        },
        "id": "_G-7S6h9OhY8",
        "outputId": "79bc0146-1d8a-43e1-9598-2de130c3406a"
      },
      "execution_count": 1,
      "outputs": [
        {
          "output_type": "stream",
          "name": "stdout",
          "text": [
            "Collecting transforms3d\n",
            "  Downloading transforms3d-0.4.2-py3-none-any.whl.metadata (2.8 kB)\n",
            "Requirement already satisfied: numpy>=1.15 in /usr/local/lib/python3.10/dist-packages (from transforms3d) (1.26.4)\n",
            "Downloading transforms3d-0.4.2-py3-none-any.whl (1.4 MB)\n",
            "\u001b[2K   \u001b[90m━━━━━━━━━━━━━━━━━━━━━━━━━━━━━━━━━━━━━━━━\u001b[0m \u001b[32m1.4/1.4 MB\u001b[0m \u001b[31m11.5 MB/s\u001b[0m eta \u001b[36m0:00:00\u001b[0m\n",
            "\u001b[?25hInstalling collected packages: transforms3d\n",
            "Successfully installed transforms3d-0.4.2\n"
          ]
        }
      ]
    },
    {
      "cell_type": "code",
      "source": [
        "# @title Compute Physical Transform Parameters, relative to image origin\n",
        "i = 1\n",
        "ps = []\n",
        "templates = [template_patch_1, template_patch_2]\n",
        "for i in range(0,2):\n",
        "  print(\"Template \", i, \" (patch number \", templates[i], \"):\\n\")\n",
        "  project = ParseXML.extract_data(trakem_xml_path, fluorescent_patch_number, templates[i], landmarks_files[i], True)\n",
        "  ps.append(project)\n",
        "  tx, ty, theta_deg, sx, sy, shear = project.compute_physical_params()\n",
        "  print(\"Translation (x,y): \", \"{:.2f}\".format(tx),\", \", \"{:.2f}\".format(ty))\n",
        "  print(\"Rotation (deg): \", \"{:.2f}\".format(theta_deg))\n",
        "  print(\"Scale x: \", \"{:.2f}\".format(sx))\n",
        "  print(\"Scale y: \", \"{:.2f}\".format(sy))\n",
        "  print(\"Shear: \", \"{:.2f}\".format(shear))\n",
        "  print(\"Alignment Error: \", project.find_transformation_error())\n",
        "  print()\n",
        "  i += 1"
      ],
      "metadata": {
        "colab": {
          "base_uri": "https://localhost:8080/"
        },
        "id": "toOKjjmt-Pb_",
        "outputId": "d54cd7fa-6256-4561-f320-edfdeceb0f88"
      },
      "execution_count": 6,
      "outputs": [
        {
          "output_type": "stream",
          "name": "stdout",
          "text": [
            "Template  0  (patch number  11 ):\n",
            "\n",
            "Translation (x,y):  621.09 ,  630.34\n",
            "Rotation (deg):  -6.40\n",
            "Scale x:  0.98\n",
            "Scale y:  0.95\n",
            "Shear:  0.01\n",
            "Alignment Error:  4.038620489329687\n",
            "\n",
            "Template  1  (patch number  14 ):\n",
            "\n",
            "Translation (x,y):  906.36 ,  182.38\n",
            "Rotation (deg):  -8.76\n",
            "Scale x:  0.89\n",
            "Scale y:  0.86\n",
            "Shear:  -0.03\n",
            "Alignment Error:  5.272608428473057\n",
            "\n"
          ]
        }
      ]
    },
    {
      "cell_type": "code",
      "source": [
        "# @title Calculate Distance and Angle between Barcodes\n",
        "# Calc centers\n",
        "center_original = np.array([template_size / 2, template_size / 2, 1])\n",
        "transformed_center1 = ps[0].transform_points(center_original)\n",
        "transformed_center2 = ps[1].transform_points(center_original)\n",
        "# Calc distances\n",
        "dist = np.linalg.norm(transformed_center1 - transformed_center2)\n",
        "# Angle\n",
        "theta_radians = np.arctan2(transformed_center1[0] - transformed_center2[0], transformed_center1[1] - transformed_center2[1])\n",
        "theta_deg = np.degrees(theta_radians)\n",
        "\n",
        "print(\"Distance: \", \"{:.2f}\".format(dist))\n",
        "print(\"Angle (deg): \", \"{:.2f}\".format(theta_deg))"
      ],
      "metadata": {
        "colab": {
          "base_uri": "https://localhost:8080/"
        },
        "id": "bb6J-phXrdnO",
        "outputId": "a9df4b0e-ed53-45f9-f4a7-8c1b29ae5d20"
      },
      "execution_count": 5,
      "outputs": [
        {
          "output_type": "stream",
          "name": "stdout",
          "text": [
            "Distance:  540.06\n",
            "Angle (deg):  -29.37\n"
          ]
        }
      ]
    }
  ]
}