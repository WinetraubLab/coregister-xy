{
  "nbformat": 4,
  "nbformat_minor": 0,
  "metadata": {
    "colab": {
      "provenance": [],
      "authorship_tag": "ABX9TyNPs1etL61DN7VCFllbQXCw"
    },
    "kernelspec": {
      "name": "python3",
      "display_name": "Python 3"
    },
    "language_info": {
      "name": "python"
    }
  },
  "cells": [
    {
      "cell_type": "markdown",
      "source": [
        "<a href=\"https://colab.research.google.com/github/WinetraubLab/coregister-xy/blob/zerlina-compute-physical/compute_physical.ipynb\" target=\"_blank\">\n",
        "<img src=\"https://colab.research.google.com/assets/colab-badge.svg\" alt=\"Open in Colab\"/></a>\n",
        "\n",
        "<a href=\"https://github.com/WinetraubLab/coregister-xy/blob/zerlina-compute-physical/compute_physical.ipynb\" target=\"_blank\">\n",
        "  <img src=\"https://img.shields.io/badge/view%20in-GitHub-blue\" alt=\"View in GitHub\"/>\n",
        "</a>\n",
        "\n",
        "# Overview\n",
        "Use this notebook to get information from ImageJ image registration."
      ],
      "metadata": {
        "id": "nyWsnQAS6ajW"
      }
    },
    {
      "cell_type": "code",
      "execution_count": 1,
      "metadata": {
        "colab": {
          "base_uri": "https://localhost:8080/"
        },
        "id": "QAJZaJhi57wu",
        "outputId": "b6e67e90-26b5-4dd2-95ce-b822fae62beb"
      },
      "outputs": [
        {
          "output_type": "stream",
          "name": "stdout",
          "text": [
            "Drive already mounted at /content/drive/; to attempt to forcibly remount, call drive.mount(\"/content/drive/\", force_remount=True).\n"
          ]
        }
      ],
      "source": [
        "# @title Notebook Inputs { display-mode: \"form\" }\n",
        "# @markdown Input Paths:\n",
        "# @markdown Leave either path blank to load a file from local file system.\n",
        "trakem_xml_path = \"/content/drive/Shareddrives/Yolab - Current Projects/_Datasets/2024-07-30 CoregisterXY Examples/trakem-sample.xml\" # @param {type:\"string\"}\n",
        "fluorescent_patch_number = 8 # @param {type:\"integer\"}\n",
        "template_patch_number = 11 # @param {type:\"integer\"}\n",
        "\n",
        "# @markdown Path to XML file with exported landmarks, or leave blank to upload from local file system:\n",
        "\n",
        "landmarks_xml_path = \"/content/drive/Shareddrives/Yolab - Current Projects/_Datasets/2024-07-30 CoregisterXY Examples/landmarks-sample.xml\" # @param {type:\"string\"}\n",
        "\n",
        "# import cv2 as cv\n",
        "# from PIL import Image\n",
        "import numpy as np\n",
        "from google.colab import drive\n",
        "drive.mount('/content/drive/')\n",
        "\n",
        "if not trakem_xml_path:\n",
        "  print(\"Upload saved TrakEM project:\")\n",
        "  uploaded = files.upload()\n",
        "  trakem_xml_path = list(uploaded.keys())[0]\n",
        "  trakem_xml_path = os.path.join(os.getcwd(), trakem_xml_path)\n",
        "if not landmarks_xml_path:\n",
        "  print(\"\\nUpload Template Image:\")\n",
        "  uploaded = files.upload()\n",
        "  landmarks_xml_path = list(uploaded.keys())[0]\n",
        "  landmarks_xml_path = os.path.join(os.getcwd(), landmarks_xml_path)"
      ]
    },
    {
      "cell_type": "code",
      "source": [
        "# @title Environment Setup\n",
        "!pip install transforms3d\n",
        "!git clone -b zerlina-compute-physical https://github.com/WinetraubLab/coregister-xy.git\n",
        "%cd coregister-xy\n",
        "\n",
        "# from plane.fit_plane import FitPlane\n",
        "from plane.parse_xml import ParseXML\n",
        "import matplotlib.pyplot as plt\n",
        "import os\n",
        "from google.colab import files\n",
        "import math\n",
        "\n",
        "%cd .."
      ],
      "metadata": {
        "colab": {
          "base_uri": "https://localhost:8080/"
        },
        "id": "nwknGqCz9QVO",
        "outputId": "f8977380-bfc0-4ff4-e0dc-a340e267019f"
      },
      "execution_count": 2,
      "outputs": [
        {
          "output_type": "stream",
          "name": "stdout",
          "text": [
            "Requirement already satisfied: transforms3d in /usr/local/lib/python3.10/dist-packages (0.4.2)\n",
            "Requirement already satisfied: numpy>=1.15 in /usr/local/lib/python3.10/dist-packages (from transforms3d) (1.26.4)\n",
            "fatal: destination path 'coregister-xy' already exists and is not an empty directory.\n",
            "/content/coregister-xy\n",
            "/content\n"
          ]
        }
      ]
    },
    {
      "cell_type": "code",
      "source": [
        "# @title Compute Physical Transform Parameters\n",
        "project = ParseXML.extract_data(trakem_xml_path, fluorescent_patch_number, template_patch_number, landmarks_xml_path)\n",
        "tx, ty, theta_deg, sx, sy, shear = project.compute_physical_params()\n",
        "print(\"Translation (x,y): \", tx,\", \", ty)\n",
        "print(\"Rotation (deg): \", theta_deg)\n",
        "print(\"Scale x: \", sx)\n",
        "print(\"Scale y: \", sy)\n",
        "print(\"Shear: \", shear)"
      ],
      "metadata": {
        "colab": {
          "base_uri": "https://localhost:8080/"
        },
        "id": "toOKjjmt-Pb_",
        "outputId": "1278790c-8081-4057-fb62-5f6c9fdc993b"
      },
      "execution_count": 3,
      "outputs": [
        {
          "output_type": "stream",
          "name": "stdout",
          "text": [
            "Translation (x,y):  -2316.3491257311343 ,  4040.908592649882\n",
            "Rotation (deg):  -173.46314833806954\n",
            "Scale x:  -2.89610512562583\n",
            "Scale y:  3.0061237114653494\n",
            "Shear:  -0.004538346708243936\n"
          ]
        }
      ]
    }
  ]
}