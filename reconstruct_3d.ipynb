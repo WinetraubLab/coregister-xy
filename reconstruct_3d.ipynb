{
  "nbformat": 4,
  "nbformat_minor": 0,
  "metadata": {
    "colab": {
      "provenance": []
    },
    "kernelspec": {
      "name": "python3",
      "display_name": "Python 3"
    },
    "language_info": {
      "name": "python"
    }
  },
  "cells": [
    {
      "cell_type": "markdown",
      "source": [
        "<a href=\"https://colab.research.google.com/github/WinetraubLab/coregister-xy/blob/main/reconstruct_3d.ipynb\" target=\"_parent\\\"><img src=\"https://colab.research.google.com/assets/colab-badge.svg\" alt=\"Open In Colab\"/></a>\n",
        "<a href=\"https://github.com/WinetraubLab/coregister-xy/blob/main/reconstruct_3d.ipynb\" target=\"_blank\">\n",
        "  <img src=\"https://img.shields.io/badge/view%20in-GitHub-blue\" alt=\"View in GitHub\"/>\n",
        "</a>\n",
        "\n",
        "# Overview\n",
        "Use this notebook to stack together multiple 2D H&E images to 3D stack"
      ],
      "metadata": {
        "id": "nyWsnQAS6ajW"
      }
    },
    {
      "cell_type": "code",
      "source": [
        "# @title Inputs\n",
        "\n",
        "# Define output volume\n",
        "x_range_mm = [0, 2]\n",
        "y_range_mm = [0, 2]\n",
        "pixel_size_mm = 1e-3 # 1 micron is 1e-3\n",
        "\n",
        "# Define input planes\n",
        "plane_inputs = []\n",
        "\n",
        "# Upload image files and replace the below with your plane_inputs:\n",
        "plane_inputs.append({\n",
        "\"uv_pix\": [[659.6445946557603, 1000.9391033859436], [396.72781912776014, 1753.129391856326], [1452.7379464359663, 1230.8167979537586]],\n",
        "\"xyz_mm\": [[0, 0, 0.01], [1, 0, 0.01], [0, 1, 0.01]],\n",
        "\"image_file_path\": \"/content/drive/Shareddrives/Yolab - Current Projects/_Datasets/2024-09-04 Multiple Barcode Alignment/s1s1.tif\"\n",
        "})\n",
        "plane_inputs.append({\n",
        "\"uv_pix\": [[873.1079315720177, 649.5830061792535], [577.6259435745303, 1283.4051242451756], [1556.1487242575822, 910.9121153118411]],\n",
        "\"xyz_mm\": [[0.0, 0.0, 0.014], [1.0, 0.0, 0.012], [0.0, 1.0, 0.014]],\n",
        "\"image_file_path\": \"/content/drive/Shareddrives/Yolab - Current Projects/_Datasets/2024-09-04 Multiple Barcode Alignment/s1s2.tif\"\n",
        "})"
      ],
      "metadata": {
        "id": "iVAjcJ46Sp5x"
      },
      "execution_count": null,
      "outputs": []
    },
    {
      "cell_type": "code",
      "source": [
        "# @title Environment Setup\n",
        "\n",
        "from google.colab import drive\n",
        "drive.mount('/content/drive')\n",
        "\n",
        "!git clone https://github.com/WinetraubLab/coregister-xy.git\n",
        "%cd coregister-xy\n",
        "\n",
        "from plane.fit_plane import FitPlane\n",
        "import matplotlib.pyplot as plt\n",
        "import os\n",
        "from google.colab import files\n",
        "import math\n",
        "import pandas as pd\n",
        "import numpy as np\n",
        "import cv2\n",
        "from PIL import Image\n",
        "import tifffile\n",
        "\n",
        "%cd .."
      ],
      "metadata": {
        "id": "nwknGqCz9QVO",
        "outputId": "28025535-448b-4269-bda3-116cd20fa0c0",
        "colab": {
          "base_uri": "https://localhost:8080/"
        }
      },
      "execution_count": null,
      "outputs": [
        {
          "output_type": "stream",
          "name": "stdout",
          "text": [
            "Drive already mounted at /content/drive; to attempt to forcibly remount, call drive.mount(\"/content/drive\", force_remount=True).\n",
            "fatal: destination path 'coregister-xy' already exists and is not an empty directory.\n",
            "/content/coregister-xy\n",
            "/content\n"
          ]
        }
      ]
    },
    {
      "cell_type": "code",
      "source": [
        "# @title Fit planes\n",
        "\n",
        "# Fit individual planes\n",
        "fps = []\n",
        "for plane_input in plane_inputs:\n",
        "  fp = FitPlane.from_template_centers(plane_input['uv_pix'],plane_input['xyz_mm'])\n",
        "  fps.append(fp)\n",
        "\n",
        "# Find average normal to all\n",
        "group_normal = np.array([0,0,0])\n",
        "for fp in fps:\n",
        "  group_normal = group_normal + fp.normal_direction()\n",
        "group_normal = group_normal / np.linalg.norm(group_normal)\n",
        "\n",
        "# Plot differences from the normal\n",
        "normal_diff_angle_deg = []\n",
        "for fp in fps:\n",
        "  normal_diff_angle_deg.append(np.arccos(np.dot(fp.normal_direction()/np.linalg.norm(fp.normal_direction()),group_normal))*180/np.pi)\n",
        "plt.plot(normal_diff_angle_deg, '-*', label='Data')\n",
        "plt.gca().xaxis.set_major_formatter(plt.FuncFormatter(lambda val, pos: '%d' % val if val % 1 == 0 else ''))\n",
        "plt.xlabel('Sample Number')\n",
        "plt.ylabel('Angle Difference (degrees)')\n",
        "plt.grid(True)\n",
        "plt.axhline(y=5, color='r', linestyle='--', label='Max Threshold')\n",
        "plt.legend()\n",
        "plt.show()\n",
        "\n",
        "# Fit individual planes while considering the overall normal\n",
        "fps2 = []\n",
        "for plane_input in plane_inputs:\n",
        "  fp = FitPlane.from_template_centers(\n",
        "      plane_input['uv_pix'],plane_input['xyz_mm'],\n",
        "      forced_plane_normal = group_normal)\n",
        "  fps2.append(fp)"
      ],
      "metadata": {
        "id": "e2NTBfpVTanP",
        "outputId": "e8f24ab8-983c-43a4-92b7-a4abcff0e156",
        "colab": {
          "base_uri": "https://localhost:8080/",
          "height": 449
        }
      },
      "execution_count": null,
      "outputs": [
        {
          "output_type": "display_data",
          "data": {
            "text/plain": [
              "<Figure size 640x480 with 1 Axes>"
            ],
            "image/png": "[encoded data removed]"
          },
          "metadata": {}
        }
      ]
    },
    {
      "cell_type": "code",
      "source": [
        "# @title Construct the 3D volume\n",
        "\n",
        "# Obtain planes images\n",
        "img_crops = []\n",
        "image_distances_mm = []\n",
        "for fp, plane_input in zip(fps2,plane_inputs):\n",
        "  # Load image and project to the common space\n",
        "  img = cv2.imread(plane_input[\"image_file_path\"], cv2.IMREAD_COLOR)\n",
        "  img_crop  = fp.image_to_physical(img, x_range_mm, y_range_mm, pixel_size_mm)\n",
        "  img_crops.append(img_crop)\n",
        "\n",
        "  # Store the distance\n",
        "  image_distances_mm.append(fp.distance_from_origin_mm())\n",
        "image_distances_mm = np.array(image_distances_mm)\n",
        "\n",
        "# Build Tiff\n",
        "empty_crop = np.zeros_like(img_crops[0])\n",
        "z_min = np.min(image_distances_mm)\n",
        "z_max = np.max(image_distances_mm)\n",
        "tiff_stack = []\n",
        "for z in np.arange(z_min, z_max, pixel_size_mm):\n",
        "  # Find the closest fp\n",
        "  diffs = np.abs(image_distances_mm - z)\n",
        "  min_diff = np.min(diffs)\n",
        "  min_index = np.argmin(diffs)\n",
        "\n",
        "  if min_diff < 5e-3/2: # Less than thickness of a slide, use this image\n",
        "    t = img_crops[min_index]\n",
        "  else:\n",
        "    t = empty_crop\n",
        "\n",
        "  tiff_stack.append(Image.fromarray(cv2.cvtColor(t, cv2.COLOR_BGR2RGB)))\n",
        "\n",
        "tiff_stack = np.array(tiff_stack).astype(np.uint8)\n",
        "\n",
        "tifffile.imwrite(\n",
        "     'output_multipage.tiff',\n",
        "     tiff_stack,\n",
        "     bigtiff=True,\n",
        "     resolution=(10 / pixel_size_mm, 10 / pixel_size_mm),\n",
        "     resolutionunit='centimeter',\n",
        "     compression='deflate' # Lossless compression\n",
        " )"
      ],
      "metadata": {
        "id": "JoD7TAD0Glsh"
      },
      "execution_count": null,
      "outputs": []
    },
    {
      "cell_type": "code",
      "source": [
        "# @title Save file to computer\n",
        "from google.colab import files\n",
        "\n",
        "# Get file size in bytes\n",
        "file_size = os.path.getsize('output_multipage.tiff')\n",
        "print(f\"File size: {file_size / (1024 * 1024):.2f} MB/{file_size / (1024 * 1024 * 1024):.2f} GB\")\n",
        "\n",
        "with tifffile.TiffFile('output_multipage.tiff') as tif:\n",
        "    # Count the number of pages\n",
        "    num_pages = len(tif.pages)\n",
        "    print(f\"The TIFF file contains {num_pages} pages.\")\n",
        "\n",
        "print('Open the File in ImageJ!')\n",
        "files.download(\"output_multipage.tiff\")"
      ],
      "metadata": {
        "id": "MPgoQmfsJ8Yf",
        "outputId": "61d9fbe0-24a9-4ea9-b686-844281ad6909",
        "colab": {
          "base_uri": "https://localhost:8080/",
          "height": 71
        }
      },
      "execution_count": null,
      "outputs": [
        {
          "output_type": "stream",
          "name": "stdout",
          "text": [
            "File size: 33.02 MB/0.03 GB\n",
            "The TIFF file contains 4 pages.\n",
            "Open the File in ImageJ!\n"
          ]
        },
        {
          "output_type": "display_data",
          "data": {
            "text/plain": [
              "<IPython.core.display.Javascript object>"
            ],
            "application/javascript": [
              "\n",
              "    async function download(id, filename, size) {\n",
              "      if (!google.colab.kernel.accessAllowed) {\n",
              "        return;\n",
              "      }\n",
              "      const div = document.createElement('div');\n",
              "      const label = document.createElement('label');\n",
              "      label.textContent = `Downloading \"${filename}\": `;\n",
              "      div.appendChild(label);\n",
              "      const progress = document.createElement('progress');\n",
              "      progress.max = size;\n",
              "      div.appendChild(progress);\n",
              "      document.body.appendChild(div);\n",
              "\n",
              "      const buffers = [];\n",
              "      let downloaded = 0;\n",
              "\n",
              "      const channel = await google.colab.kernel.comms.open(id);\n",
              "      // Send a message to notify the kernel that we're ready.\n",
              "      channel.send({})\n",
              "\n",
              "      for await (const message of channel.messages) {\n",
              "        // Send a message to notify the kernel that we're ready.\n",
              "        channel.send({})\n",
              "        if (message.buffers) {\n",
              "          for (const buffer of message.buffers) {\n",
              "            buffers.push(buffer);\n",
              "            downloaded += buffer.byteLength;\n",
              "            progress.value = downloaded;\n",
              "          }\n",
              "        }\n",
              "      }\n",
              "      const blob = new Blob(buffers, {type: 'application/binary'});\n",
              "      const a = document.createElement('a');\n",
              "      a.href = window.URL.createObjectURL(blob);\n",
              "      a.download = filename;\n",
              "      div.appendChild(a);\n",
              "      a.click();\n",
              "      div.remove();\n",
              "    }\n",
              "  "
            ]
          },
          "metadata": {}
        },
        {
          "output_type": "display_data",
          "data": {
            "text/plain": [
              "<IPython.core.display.Javascript object>"
            ],
            "application/javascript": [
              "download(\"download_d5907aa8-c400-47ab-9880-a857a5aaaeaa\", \"output_multipage.tiff\", 34624688)"
            ]
          },
          "metadata": {}
        }
      ]
    },
    {
      "cell_type": "code",
      "source": [],
      "metadata": {
        "id": "y_up0n2tW9bQ"
      },
      "execution_count": null,
      "outputs": []
    }
  ]
}