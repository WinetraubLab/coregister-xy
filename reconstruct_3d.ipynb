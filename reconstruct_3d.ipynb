{
  "nbformat": 4,
  "nbformat_minor": 0,
  "metadata": {
    "colab": {
      "provenance": []
    },
    "kernelspec": {
      "name": "python3",
      "display_name": "Python 3"
    },
    "language_info": {
      "name": "python"
    }
  },
  "cells": [
    {
      "cell_type": "markdown",
      "source": [
        "<a href=\"https://colab.research.google.com/github/WinetraubLab/coregister-xy/blob/main/reconstruct_3d.ipynb\" target=\"_parent\\\"><img src=\"https://colab.research.google.com/assets/colab-badge.svg\" alt=\"Open In Colab\"/></a>\n",
        "<a href=\"https://github.com/WinetraubLab/coregister-xy/blob/main/reconstruct_3d.ipynb\" target=\"_blank\">\n",
        "  <img src=\"https://img.shields.io/badge/view%20in-GitHub-blue\" alt=\"View in GitHub\"/>\n",
        "</a>\n",
        "\n",
        "# Overview\n",
        "Use this notebook to stack together multiple 2D H&E images to 3D stack"
      ],
      "metadata": {
        "id": "nyWsnQAS6ajW"
      }
    },
    {
      "cell_type": "code",
      "source": [
        "# @title Inputs\n",
        "\n",
        "# Define output volume\n",
        "x_range_mm = [-1, 1]\n",
        "y_range_mm = [-1, 1]\n",
        "pixel_size_mm = 1e-3 # 1 micron is 1e-3\n",
        "\n",
        "# Define input planes\n",
        "plane_inputs = []\n",
        "\n",
        "# Upload image files and replace the below with your plane_inputs:\n",
        "plane_inputs.append({\n",
        "\"uv_pix\": [[860.1, 1201.4], [597.2, 1953.6], [1653.2, 1431.3]],\n",
        "\"xyz_mm\": [[0, 0, 0.01], [1, 0, 0.01], [0, 1, 0.01]],\n",
        "\"image_file_path\": \"/content/drive/Shareddrives/Yolab - Current Projects/_Datasets/2024-09-04 Multiple Barcode Alignment/s1s1.tif\"\n",
        "})\n",
        "plane_inputs.append({\n",
        "\"uv_pix\": [[1073.6, 850.1], [778.1, 1483.9], [1756.6, 1111.4]],\n",
        "\"xyz_mm\": [[0.0, 0.0, 0.014], [1.0, 0.0, 0.012], [0.0, 1.0, 0.014]],\n",
        "\"image_file_path\": \"/content/drive/Shareddrives/Yolab - Current Projects/_Datasets/2024-09-04 Multiple Barcode Alignment/s1s2.tif\"\n",
        "})"
      ],
      "metadata": {
        "id": "iVAjcJ46Sp5x"
      },
      "execution_count": null,
      "outputs": []
    },
    {
      "cell_type": "code",
      "source": [
        "# @title Environment Setup\n",
        "\n",
        "from google.colab import drive\n",
        "drive.mount('/content/drive')\n",
        "\n",
        "!git clone https://github.com/WinetraubLab/coregister-xy.git\n",
        "%cd coregister-xy\n",
        "\n",
        "from plane.fit_plane import FitPlane\n",
        "import matplotlib.pyplot as plt\n",
        "import os\n",
        "from google.colab import files\n",
        "import math\n",
        "import pandas as pd\n",
        "import numpy as np\n",
        "import cv2\n",
        "from PIL import Image\n",
        "import tifffile\n",
        "\n",
        "%cd .."
      ],
      "metadata": {
        "id": "nwknGqCz9QVO",
        "cellView": "form",
        "outputId": "ab8f63f8-f6d6-43ed-f39a-cb4d1ded8805",
        "colab": {
          "base_uri": "https://localhost:8080/"
        }
      },
      "execution_count": null,
      "outputs": [
        {
          "output_type": "stream",
          "name": "stdout",
          "text": [
            "Mounted at /content/drive\n",
            "Cloning into 'coregister-xy'...\n",
            "remote: Enumerating objects: 837, done.\u001b[K\n",
            "remote: Counting objects: 100% (169/169), done.\u001b[K\n",
            "remote: Compressing objects: 100% (106/106), done.\u001b[K\n",
            "remote: Total 837 (delta 113), reused 75 (delta 63), pack-reused 668 (from 2)\u001b[K\n",
            "Receiving objects: 100% (837/837), 1.27 MiB | 11.35 MiB/s, done.\n",
            "Resolving deltas: 100% (521/521), done.\n",
            "/content/coregister-xy\n",
            "/content\n"
          ]
        }
      ]
    },
    {
      "cell_type": "code",
      "source": [
        "# @title Fit planes\n",
        "\n",
        "# Fit individual planes\n",
        "fps = []\n",
        "for plane_input in plane_inputs:\n",
        "  fp = FitPlane.from_template_centers(plane_input['uv_pix'],plane_input['xyz_mm'])\n",
        "  fps.append(fp)\n",
        "\n",
        "# Find average normal to all\n",
        "group_normal = np.array([0,0,0])\n",
        "for fp in fps:\n",
        "  group_normal = group_normal + fp.normal_direction()\n",
        "group_normal = group_normal / np.linalg.norm(group_normal)\n",
        "\n",
        "# Plot differences from the normal\n",
        "normal_diff_angle_deg = []\n",
        "for fp in fps:\n",
        "  normal_diff_angle_deg.append(np.arccos(np.dot(fp.normal_direction()/np.linalg.norm(fp.normal_direction()),group_normal))*180/np.pi)plt.plot(normal_diff_angle_deg, '-*', label='Data')\n",
        "plt.gca().xaxis.set_major_formatter(plt.FuncFormatter(lambda val, pos: '%d' % val if val % 1 == 0 else ''))\n",
        "plt.xlabel('Sample Number')\n",
        "plt.ylabel('Angle Difference (degrees)')\n",
        "plt.grid(True)\n",
        "plt.axhline(y=5, color='r', linestyle='--', label='Max Threshold')\n",
        "plt.legend()\n",
        "plt.show()\n",
        "\n",
        "# Fit individual planes while considering the overall normal\n",
        "fps2 = []\n",
        "for plane_input in plane_inputs:\n",
        "  fp = FitPlane.from_template_centers(\n",
        "      plane_input['uv_pix'],plane_input['xyz_mm'],\n",
        "      forced_plane_normal = group_normal)\n",
        "  fps2.append(fp)"
      ],
      "metadata": {
        "id": "e2NTBfpVTanP",
        "outputId": "2ea36c2a-b629-41b6-aacd-10629fbf8e59",
        "colab": {
          "base_uri": "https://localhost:8080/",
          "height": 449
        }
      },
      "execution_count": null,
      "outputs": [
        {
          "output_type": "display_data",
          "data": {
            "text/plain": [
              "<Figure size 640x480 with 1 Axes>"
            ],
            "image/png": "[encoded data removed]"
          },
          "metadata": {}
        }
      ]
    },
    {
      "cell_type": "code",
      "source": [
        "# @title Construct the 3D volume\n",
        "\n",
        "# Obtain planes images\n",
        "img_crops = []\n",
        "image_distances_mm = []\n",
        "for fp, plane_input in zip(fps2,plane_inputs):\n",
        "  # Load image and project to the common space\n",
        "  img = cv2.imread(plane_input[\"image_file_path\"], cv2.IMREAD_COLOR)\n",
        "  img_crop  = fp.image_to_physical(img, x_range_mm, y_range_mm, pixel_size_mm)\n",
        "  img_crops.append(img_crop)\n",
        "\n",
        "  # Store the distance\n",
        "  image_distances_mm.append(fp.distance_from_origin_mm())\n",
        "image_distances_mm = np.array(image_distances_mm)\n",
        "\n",
        "# Build Tiff\n",
        "empty_crop = np.zeros_like(img_crops[0])\n",
        "z_min = np.min(image_distances_mm)\n",
        "z_max = np.max(image_distances_mm)\n",
        "tiff_stack = []\n",
        "for z in np.arange(z_min, z_max, pixel_size_mm):\n",
        "  # Find the closest fp\n",
        "  diffs = np.abs(image_distances_mm - z)\n",
        "  min_diff = np.min(diffs)\n",
        "  min_index = np.argmin(diffs)\n",
        "\n",
        "  if min_diff < 5e-3/2: # Less than thickness of a slide, use this image\n",
        "    t = img_crops[min_index]\n",
        "  else:\n",
        "    t = empty_crop\n",
        "\n",
        "  tiff_stack.append(Image.fromarray(cv2.cvtColor(t, cv2.COLOR_BGR2RGB)))\n",
        "\n",
        "tiff_stack = np.array(tiff_stack).astype(np.uint8)\n",
        "\n",
        "tifffile.imwrite(\n",
        "     'output_multipage.tiff',\n",
        "     tiff_stack,\n",
        "     bigtiff=True,\n",
        "     resolution=(10 / pixel_size_mm, 10 / pixel_size_mm),\n",
        "     resolutionunit='centimeter',\n",
        "     compression='deflate' # Lossless compression\n",
        " )"
      ],
      "metadata": {
        "id": "JoD7TAD0Glsh"
      },
      "execution_count": null,
      "outputs": []
    },
    {
      "cell_type": "code",
      "source": [
        "# @title Save file to computer\n",
        "from google.colab import files\n",
        "\n",
        "# Get file size in bytes\n",
        "file_size = os.path.getsize('output_multipage.tiff')\n",
        "print(f\"File size: {file_size / (1024 * 1024):.2f} MB/{file_size / (1024 * 1024 * 1024):.2f} GB\")\n",
        "\n",
        "with tifffile.TiffFile('output_multipage.tiff') as tif:\n",
        "    # Count the number of pages\n",
        "    num_pages = len(tif.pages)\n",
        "    print(f\"The TIFF file contains {num_pages} pages.\")\n",
        "\n",
        "print('Open the File in ImageJ!')\n",
        "files.download(\"output_multipage.tiff\")"
      ],
      "metadata": {
        "id": "MPgoQmfsJ8Yf",
        "outputId": "30b0c361-9faf-4f14-ef62-9690a4b21607",
        "colab": {
          "base_uri": "https://localhost:8080/",
          "height": 71
        }
      },
      "execution_count": null,
      "outputs": [
        {
          "output_type": "stream",
          "name": "stdout",
          "text": [
            "File size: 14.09 MB/0.01 GB\n",
            "The TIFF file contains 4 pages.\n",
            "Open the File in ImageJ!\n"
          ]
        },
        {
          "output_type": "display_data",
          "data": {
            "text/plain": [
              "<IPython.core.display.Javascript object>"
            ],
            "application/javascript": [
              "\n",
              "    async function download(id, filename, size) {\n",
              "      if (!google.colab.kernel.accessAllowed) {\n",
              "        return;\n",
              "      }\n",
              "      const div = document.createElement('div');\n",
              "      const label = document.createElement('label');\n",
              "      label.textContent = `Downloading \"${filename}\": `;\n",
              "      div.appendChild(label);\n",
              "      const progress = document.createElement('progress');\n",
              "      progress.max = size;\n",
              "      div.appendChild(progress);\n",
              "      document.body.appendChild(div);\n",
              "\n",
              "      const buffers = [];\n",
              "      let downloaded = 0;\n",
              "\n",
              "      const channel = await google.colab.kernel.comms.open(id);\n",
              "      // Send a message to notify the kernel that we're ready.\n",
              "      channel.send({})\n",
              "\n",
              "      for await (const message of channel.messages) {\n",
              "        // Send a message to notify the kernel that we're ready.\n",
              "        channel.send({})\n",
              "        if (message.buffers) {\n",
              "          for (const buffer of message.buffers) {\n",
              "            buffers.push(buffer);\n",
              "            downloaded += buffer.byteLength;\n",
              "            progress.value = downloaded;\n",
              "          }\n",
              "        }\n",
              "      }\n",
              "      const blob = new Blob(buffers, {type: 'application/binary'});\n",
              "      const a = document.createElement('a');\n",
              "      a.href = window.URL.createObjectURL(blob);\n",
              "      a.download = filename;\n",
              "      div.appendChild(a);\n",
              "      a.click();\n",
              "      div.remove();\n",
              "    }\n",
              "  "
            ]
          },
          "metadata": {}
        },
        {
          "output_type": "display_data",
          "data": {
            "text/plain": [
              "<IPython.core.display.Javascript object>"
            ],
            "application/javascript": [
              "download(\"download_fe9db351-ac82-4f5a-b72f-ab73682e5d75\", \"output_multipage.tiff\", 14770926)"
            ]
          },
          "metadata": {}
        }
      ]
    },
    {
      "cell_type": "code",
      "source": [],
      "metadata": {
        "id": "y_up0n2tW9bQ"
      },
      "execution_count": null,
      "outputs": []
    }
  ]
}