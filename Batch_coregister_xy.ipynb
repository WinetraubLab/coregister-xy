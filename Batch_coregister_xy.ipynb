{
  "nbformat": 4,
  "nbformat_minor": 0,
  "metadata": {
    "colab": {
      "provenance": []
    },
    "kernelspec": {
      "name": "python3",
      "display_name": "Python 3"
    },
    "language_info": {
      "name": "python"
    }
  },
  "cells": [
    {
      "cell_type": "markdown",
      "source": [
        "<a href=\"https://colab.research.google.com/github/WinetraubLab/coregister-xy/blob/main/Batch_coregister_xy.ipynb\" target=\"_blank\">\n",
        "<img src=\"https://colab.research.google.com/assets/colab-badge.svg\" alt=\"Open in Colab\"/></a>\n",
        "<a href=\"https://github.com/WinetraubLab/coregister-xy/blob/main/Batch_coregister_xy.ipynb\" target=\"_blank\">\n",
        "  <img src=\"https://img.shields.io/badge/view%20in-GitHub-blue\" alt=\"View in GitHub\"/>\n",
        "</a>\n",
        "\n",
        "# Overview\n",
        "Outputs a file with code block to copy paste into reconstruct_3d script, for one large template with all barcodes. Can process multiple slices at a time."
      ],
      "metadata": {
        "id": "nyWsnQAS6ajW"
      }
    },
    {
      "cell_type": "code",
      "execution_count": 5,
      "metadata": {
        "id": "QAJZaJhi57wu",
        "colab": {
          "base_uri": "https://localhost:8080/"
        },
        "outputId": "272f2f5f-1ceb-4e3e-cca3-027afc31a18e"
      },
      "outputs": [
        {
          "output_type": "stream",
          "name": "stdout",
          "text": [
            "Drive already mounted at /content/drive/; to attempt to forcibly remount, call drive.mount(\"/content/drive/\", force_remount=True).\n"
          ]
        }
      ],
      "source": [
        "# @title Notebook Inputs { display-mode: \"form\" }\n",
        "# @markdown [See Instructions](https://docs.google.com/document/d/1XAVQ2KHBn9OPUEbf9dRE8Kuds44gkQqYAzBNehx_rec/edit?usp=sharing) for instructions on how to get these values:\n",
        "import numpy as np\n",
        "from google.colab import drive\n",
        "from google.colab import files\n",
        "drive.mount('/content/drive/')\n",
        "\n",
        "\n",
        "# um_per_px = 5\n",
        "\n",
        "# Units: px\n",
        "fluorescent_csv_path = \"/content/drive/Shareddrives/Yolab - Current Projects/Zerlina/_Data/selected-points.csv\" # @param {type:\"string\"}\n",
        "\n",
        "# Units: mm\n",
        "template_csv_path = \"/content/drive/Shareddrives/Yolab - Current Projects/Zerlina/_Data/template-points.csv\" # @param {type:\"string\"}\n",
        "\n",
        "# This is the file where the plane_input.append() lines to copy paste into reconstruct_3d.ipynb will be written to\n",
        "# Change as desired\n",
        "output_file_path = \"/content/drive/Shareddrives/Yolab - Current Projects/Zerlina/_Data/plane-inputs.txt\"# @param {type:\"string\"}"
      ]
    },
    {
      "cell_type": "code",
      "source": [
        "# @title Environment Setup\n",
        "!git clone https://github.com/WinetraubLab/coregister-xy.git\n",
        "%cd coregister-xy\n",
        "\n",
        "from plane.fit_template import FitTemplate\n",
        "from plane.fit_plane import FitPlane\n",
        "import matplotlib.pyplot as plt\n",
        "import os\n",
        "from google.colab import files\n",
        "import math\n",
        "import pandas as pd\n",
        "import numpy as np\n",
        "\n",
        "%cd .."
      ],
      "metadata": {
        "id": "nwknGqCz9QVO",
        "colab": {
          "base_uri": "https://localhost:8080/"
        },
        "outputId": "dc55d57f-c5f3-49ca-8758-f0baaae1edd8"
      },
      "execution_count": null,
      "outputs": [
        {
          "output_type": "stream",
          "name": "stdout",
          "text": [
            "fatal: destination path 'coregister-xy' already exists and is not an empty directory.\n",
            "/content/coregister-xy\n",
            "/content\n"
          ]
        }
      ]
    },
    {
      "cell_type": "code",
      "source": [
        "df = pd.read_csv(fluorescent_csv_path)\n",
        "df_template = pd.read_csv(template_csv_path)\n",
        "\n",
        "template_centers_uvz = {}\n",
        "fluorescent_image_paths = {}\n",
        "n_slices = df['Slice'].max()\n",
        "\n",
        "for idx in range(1, n_slices + 1):\n",
        "    template_centers_uvz[idx] = [\n",
        "        (row['X'], row['Y'], row['Z']) for _, row in df[df['Slice'] == idx].iterrows()\n",
        "    ]\n",
        "\n",
        "for idx, row in df[df['fluorescent_image_path'].notna()].iterrows():\n",
        "    fluorescent_image_paths[row['Slice']] = row['fluorescent_image_path']\n",
        "\n",
        "template_centers_xy = [(row['X'], row['Y']) for _, row in df_template.iterrows()]\n",
        "\n",
        "fps = []\n",
        "\n",
        "with open(output_file_path, \"w\") as outf:\n",
        "  for idx in template_centers_uvz:\n",
        "    z = np.array(template_centers_uvz[idx])[:,2] / 1000\n",
        "    template_centers_uv = np.array(template_centers_uvz[idx])[:,:2]\n",
        "    template_centers_xyz = np.hstack([np.array(template_centers_xy), z.reshape(-1, 1)])\n",
        "\n",
        "    fp = FitPlane.from_template_centers(template_centers_uv, template_centers_xyz, print_inputs = False)\n",
        "    fps.append(fp)\n",
        "\n",
        "    # In plane and out of plane erorr\n",
        "    uv_to_xyz = np.array([fp.get_xyz_from_uv(x) for x in template_centers_uv])\n",
        "    in_plane_err, out_plane_err = fp.get_template_center_positions_distance_metrics(template_centers_uv, template_centers_xyz)\n",
        "\n",
        "    print(\"\")\n",
        "    print(f'Data for Slide {idx}:')\n",
        "    print('---------------')\n",
        "    print(f\"Average in-plane mapping error: {in_plane_err*1000:.2f} um\")\n",
        "    print(f\"Average out-of-plane mapping error: {out_plane_err*1000:.2f} um\")\n",
        "    print('---------------')\n",
        "    print(\"fp = FitPlane.from_json('\" + fp.to_json() + \"')\")\n",
        "    print(f\"\\nplane_inputs.append({{\\n\\\"uv_pix\\\": {template_centers_uv.tolist()},\\n\\\"xyz_mm\\\": {template_centers_xyz.tolist()},\\n\\\"image_file_path\\\": \\\"{fluorescent_image_paths[idx]}\\\"\\n}})\")\n",
        "    print()\n",
        "    # Write to single output file\n",
        "    outf.write(f\"\\nplane_inputs.append({{\\n\\\"uv_pix\\\": {template_centers_uv.tolist()},\\n\\\"xyz_mm\\\": {template_centers_xyz.tolist()},\\n\\\"image_file_path\\\": \\\"{fluorescent_image_paths[idx]}\\\"\\n}})\")"
      ],
      "metadata": {
        "colab": {
          "base_uri": "https://localhost:8080/"
        },
        "id": "ml17M5bKTR1D",
        "outputId": "90bf6d1c-c8f8-4cbb-91b9-4d2081b09c56"
      },
      "execution_count": null,
      "outputs": [
        {
          "output_type": "stream",
          "name": "stdout",
          "text": [
            "\n",
            "Data for Slide 1:\n",
            "---------------\n",
            "Average in-plane mapping error: 3.11 um\n",
            "Average out-of-plane mapping error: 0.00 um\n",
            "---------------\n",
            "fp = FitPlane.from_json('{\"u\": [0.0011416598899054863, -0.00025480858765866644, -3.947921138740263e-18], \"v\": [0.00024464918873106723, 0.0011815149343924036, 1.1968748954140742e-18], \"h\": [-0.9705803366672346, -0.05476643176799694, 0.02400000000000012]}')\n",
            "\n",
            "plane_inputs.append({\n",
            "\"uv_pix\": [[1927, 767], [1874, 991], [2098, 847], [2588, 1759], [2536, 1976], [2764, 1835]],\n",
            "\"xyz_mm\": [[1.41331, 0.36551, 0.024], [1.41237, 0.63636, 0.024], [1.63543, 0.40769, 0.024], [2.41143, 1.36551, 0.024], [2.40956, 1.63355, 0.024], [2.63449, 1.40862, 0.024]],\n",
            "\"image_file_path\": \"/content/drive/Shareddrives/Yolab - Current Projects/Zerlina/_Data/r2s1s4.tif\"\n",
            "})\n",
            "\n",
            "\n",
            "Data for Slide 2:\n",
            "---------------\n",
            "Average in-plane mapping error: 2.53 um\n",
            "Average out-of-plane mapping error: 0.11 um\n",
            "---------------\n",
            "fp = FitPlane.from_json('{\"u\": [0.0011750234729282821, -6.519486492980627e-05, 1.2142669027490763e-06], \"v\": [5.8995142394064205e-05, 0.0012043927986463499, 1.1348050309965984e-06], \"h\": [-0.5060258405216191, -0.38144082597359047, 0.025100420709882387]}')\n",
            "\n",
            "plane_inputs.append({\n",
            "\"uv_pix\": [[1600, 704], [1584, 932], [1784, 754], [2406, 1579], [2391, 1803], [2589, 1627]],\n",
            "\"xyz_mm\": [[1.41331, 0.36551, 0.028], [1.41237, 0.63636, 0.028], [1.63543, 0.40769, 0.028], [2.41143, 1.36551, 0.03], [2.40956, 1.63355, 0.03], [2.63449, 1.40862, 0.03]],\n",
            "\"image_file_path\": \"/content/drive/Shareddrives/Yolab - Current Projects/Zerlina/_Data/r2s1s5.tif\"\n",
            "})\n",
            "\n"
          ]
        }
      ]
    },
    {
      "cell_type": "code",
      "source": [
        "outf.close()\n",
        "print(f\"See output file {output_file_path} for plane_input lines to copy into the reconstruct_3d.ipynb script!\")"
      ],
      "metadata": {
        "id": "8q2iLQp7COhY",
        "colab": {
          "base_uri": "https://localhost:8080/"
        },
        "outputId": "f033d3e2-3511-4789-92b2-17c3e834230a"
      },
      "execution_count": null,
      "outputs": [
        {
          "output_type": "stream",
          "name": "stdout",
          "text": [
            "See output file /content/drive/Shareddrives/Yolab - Current Projects/Zerlina/_Data/plane-inputs.txt for plane_input lines to copy into the reconstruct_3d.ipynb script!\n"
          ]
        }
      ]
    }
  ]
}