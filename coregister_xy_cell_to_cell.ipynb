{
 "cells": [
  {
   "cell_type": "code",
   "execution_count": null,
   "id": "8ca2f203",
   "metadata": {
    "vscode": {
     "languageId": "plaintext"
    }
   },
   "outputs": [],
   "source": [
    "!pip install cellpose==2.2 --quiet"
   ]
  },
  {
   "cell_type": "code",
   "execution_count": null,
   "id": "f8d3f4a6",
   "metadata": {
    "vscode": {
     "languageId": "plaintext"
    }
   },
   "outputs": [],
   "source": [
    "import segment_cells\n",
    "import PCR99a\n",
    "\n",
    "from scipy.interpolate import RegularGridInterpolator\n",
    "from scipy.spatial import cKDTree\n",
    "from skimage.measure import regionprops, label\n",
    "from cellpose import io, models, plot\n",
    "\n",
    "import matplotlib.pyplot as plt\n",
    "import cv2\n",
    "import numpy as np"
   ]
  },
  {
   "cell_type": "code",
   "execution_count": null,
   "id": "aebaddc3",
   "metadata": {
    "vscode": {
     "languageId": "plaintext"
    }
   },
   "outputs": [],
   "source": [
    "# INPUTS: TODO formatting\n",
    "\n",
    "oct_image_path = \"\"\n",
    "hist_image_path = \"\"\n",
    "\n",
    "gt_coords_xy_mm = []\n",
    "hist_coords_xyz_px = []\n",
    "oct_view_corners_xy_mm = []\n",
    "\n",
    "zero_slice_num = 0\n",
    "xy_downsample_factor = 1\n",
    "\n",
    "cell_to_cell_alignment = True\n",
    "avg_cell_diameter_px = 10\n",
    "\n",
    "hist_valid_cell_mask_path = None\n",
    "\n",
    "initial_pairs_dist_threshold = 40\n",
    "z_weight = 1.5"
   ]
  },
  {
   "cell_type": "code",
   "execution_count": null,
   "id": "0b27ac4f",
   "metadata": {
    "vscode": {
     "languageId": "plaintext"
    }
   },
   "outputs": [],
   "source": [
    "from google.colab import drive\n",
    "drive.mount('/content/drive')"
   ]
  },
  {
   "cell_type": "markdown",
   "id": "dee16dde",
   "metadata": {},
   "source": [
    "## Rough Alignment"
   ]
  },
  {
   "cell_type": "code",
   "execution_count": null,
   "id": "e5237230",
   "metadata": {
    "vscode": {
     "languageId": "plaintext"
    }
   },
   "outputs": [],
   "source": [
    "min_x = np.min(oct_view_corners_xy_mm[:, 0])\n",
    "candidates = oct_view_corners_xy_mm[oct_view_corners_xy_mm[:, 0] == min_x]\n",
    "oct_origin_mm = candidates[np.argmin(candidates[:, 1])]\n",
    "\n",
    "gt_coords_xy_mm[:,0] -= oct_origin_mm[0]\n",
    "gt_coords_xy_mm[:,1] -= oct_origin_mm[1]\n",
    "\n",
    "gt_coords_xy_um = gt_coords_xy_mm * 1000\n",
    "\n",
    "oct_view_dims_yx = np.array(\n",
    "    [(max(gt_coords_xy_um[:,1])-min(gt_coords_xy_um[:,1])), (max(gt_coords_xy_um[:,0])-min(gt_coords_xy_um[:,0]))]\n",
    ")\n",
    "\n",
    "hist_image = cv2.imread(hist_image_path)\n",
    "warped_hist_image = warp_image.bspline_warp_image(hist_image, gt_coords_xy_um[:,[1,0]], hist_coords_xyz_px[:,[1,0]], order=3, output_shape=oct_view_dims_yx)\n",
    "\n",
    "for c in range(3):\n",
    "    warped_hist_image[:,:,c] = np.clip(warped_hist_image, 0, 255)\n",
    "\n",
    "cv2.imwrite('rough_aligned_hist_image.png', warped_hist_image)\n",
    "\n",
    "# zmin_plane = []\n",
    "# zmean_plane = []\n",
    "# zmax_plane = []"
   ]
  },
  {
   "cell_type": "markdown",
   "id": "fec10a84",
   "metadata": {},
   "source": [
    "## Cell-to-Cell Alignment"
   ]
  },
  {
   "cell_type": "code",
   "execution_count": null,
   "id": "3bf39e4f",
   "metadata": {
    "vscode": {
     "languageId": "plaintext"
    }
   },
   "outputs": [],
   "source": [
    "# Load images\n",
    "oct_xy_vol = io.imread(oct_image_path)\n",
    "\n",
    "# Segment\n",
    "oct_masks, oct_flows = segment_cells.segment_cells(oct_xy_vol, avg_cell_diameter_px, flow_threshold=0.85, cellprob_threshold=-8, keep_cells='dark', gpu=True, normalization=\"clahe\")\n",
    "\n",
    "# Get cell centers, assign z\n",
    "oct_centroids = np.array([r.centroid for r in regionprops(oct_masks)])\n",
    "oct_centroids[:,2] = oct_centroids[:,2] * xy_downsample_factor\n",
    "oct_centroids[:,1] = oct_centroids[:,1] * xy_downsample_factor\n",
    "oct_centroids[:,0] += max(0,int(zmin_plane.min()))\n",
    "\n",
    "z = oct_centroids[:, 0]\n",
    "y = oct_centroids[:, 1]\n",
    "x = oct_centroids[:, 2]\n",
    "within_bounds = (z.astype(int) > zmin_plane[y.astype(int), x.astype(int)]) & (z.astype(int) < zmax_plane[y.astype(int), x.astype(int)])\n",
    "oct_centroids_xyz = oct_centroids[within_bounds][:, [2, 1, 0]] \n",
    "\n",
    "# Save point\n",
    "np.savetxt('/content/filtered_oct_centroids_xyz.csv', oct_centroids_xyz, delimiter=',')  # (n,3)\n",
    "\n",
    "\n",
    "# Load images\n",
    "hist_img = io.imread(hist_image_path)\n",
    "\n",
    "# Segment\n",
    "hist_masks, hist_flows = segment_cells.segment_cells(hist_img, avg_cell_diameter_px, flow_threshold=0.7, cellprob_threshold=-5, keep_cells='dark', gpu=True, normalization=\"global\")\n",
    "\n",
    "# Get cell centers, assign z\n",
    "hist_centroids = [np.array(r.centroid) for r in regionprops(hist_masks)]\n",
    "\n",
    "constant_z = 1\n",
    "z = np.full((len(hist_centroids), 1), constant_z)\n",
    "hist_centroids = np.hstack((z, np.array(hist_centroids)))\n",
    "\n",
    "hist_centroids_xyz = hist_centroids[:,(2,1,0)]\n",
    "\n",
    "interp = RegularGridInterpolator(\n",
    "    (np.arange(zmean_plane.shape[0]), np.arange(zmean_plane.shape[1])),\n",
    "    zmean_plane, method='linear', bounds_error=False, fill_value=None\n",
    ")\n",
    "\n",
    "hist_points = np.stack([hist_centroids_xyz[:,1].ravel(), hist_centroids_xyz[:,0].ravel()], axis=-1)\n",
    "hist_z_coords = interp(hist_points).reshape((hist_centroids_xyz[:,2].shape))\n",
    "hist_z_coords = hist_z_coords.reshape(-1, 1)\n",
    "hist_centroids_xyz = np.hstack((hist_centroids_xyz[:,:2], hist_z_coords))\n",
    "\n",
    "if hist_valid_cell_mask_path is not None:\n",
    "    valid_cell_mask = cv2.imread(hist_valid_cell_mask_path, cv2.IMREAD_GRAYSCALE)\n",
    "    valid_cell_mask = (valid_cell_mask > 0).astype(np.uint8)\n",
    "    assert valid_cell_mask.shape[:2] == hist_img.shape[:2], \"Valid cell mask shape does not match histology image shape\"\n",
    "\n",
    "    x = hist_centroids_xyz[:, 0].astype(int)\n",
    "    y = hist_centroids_xyz[:, 1].astype(int)\n",
    "\n",
    "    hist_centroids_xyz = hist_centroids_xyz[valid_cell_mask[y,x] > 0]\n",
    "\n",
    "# Save point\n",
    "np.savetxt('/content/filtered_hist_centroids_xyz.csv', hist_centroids_xyz, delimiter=',')  # (n,3)"
   ]
  },
  {
   "cell_type": "code",
   "execution_count": null,
   "id": "f2473f51",
   "metadata": {
    "vscode": {
     "languageId": "plaintext"
    }
   },
   "outputs": [],
   "source": [
    "# Matching initial pairs\n",
    "\n",
    "k = 20\n",
    "\n",
    "A_T = np.asarray(oct_centroids_xyz, dtype=float)  # (n, 3)\n",
    "B_T = np.asarray(hist_centroids_xyz, dtype=float)  # (m, 3)\n",
    "\n",
    "# Scale Z coordinate \n",
    "A_scaled = A_T.copy()\n",
    "B_scaled = B_T.copy()\n",
    "A_scaled[:, 2] *= z_weight\n",
    "B_scaled[:, 2] *= z_weight\n",
    "\n",
    "# Build KD-tree on scaled B\n",
    "tree = cKDTree(B_scaled)\n",
    "\n",
    "# Query k nearest neighbors\n",
    "dists, indices = tree.query(A_scaled, k=k)\n",
    "\n",
    "A_matched = []\n",
    "B_matched = []\n",
    "\n",
    "for i in range(A_scaled.shape[0]):\n",
    "    a_orig = A_T[i]  # unscaled\n",
    "    for j in range(k):\n",
    "        b_orig = B_T[indices[i, j]]  # unscaled match\n",
    "        if dists[i, j] < initial_pairs_dist_threshold:  # threshold in scaled units TODO param\n",
    "            A_matched.append(a_orig)\n",
    "            B_matched.append(b_orig)\n",
    "\n",
    "A_matched = np.array(A_matched).T\n",
    "B_matched = np.array(B_matched).T\n",
    "matched_pairs = np.vstack((A_matched, B_matched))  # (6, n)\n",
    "\n",
    "# Save \n",
    "np.savetxt('/content/centroids_matched_pairs.csv', matched_pairs, delimiter=',')\n",
    "\n",
    "print(f\"{A_matched.shape[1]} initial point pairs created\")"
   ]
  }
 ],
 "metadata": {
  "language_info": {
   "name": "python"
  }
 },
 "nbformat": 4,
 "nbformat_minor": 5
}
