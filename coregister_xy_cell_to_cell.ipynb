{
 "cells": [
  {
   "cell_type": "code",
   "execution_count": null,
   "id": "ef798777",
   "metadata": {
    "vscode": {
     "languageId": "plaintext"
    }
   },
   "outputs": [],
   "source": [
    "# @title Compute transform\n",
    "if do_cell_to_cell_alignment:\n",
    "    oct_xyz = matched_pairs[:3, :]  # shape (3, n)\n",
    "    hist_xyz = matched_pairs[3:, :]\n",
    "\n",
    "    _, (s,R,t) = PCR99a.calculate_affine_alignment(oct_xyz, hist_xyz, n_hypo=1000, thr1=0.03, pcr99_inlier_thresh=50, n_iter=5000, plane_inlier_thresh=5, z_dist_thresh=5,\n",
    "                    penalty_threshold=10, xy_translation_penalty_weight=1)\n",
    "\n",
    "    T = np.eye(4)\n",
    "    T[:3, :3] = s*R\n",
    "    T[:3, 3] = t\n",
    "    T = np.linalg.inv(T)\n",
    "\n",
    "    oct_plane = warp_image.minimal_projection(5, oct_xy_vol, T, oct_xy_vol[0].shape)"
   ]
  }
 ],
 "metadata": {
  "language_info": {
   "name": "python"
  }
 },
 "nbformat": 4,
 "nbformat_minor": 5
}
