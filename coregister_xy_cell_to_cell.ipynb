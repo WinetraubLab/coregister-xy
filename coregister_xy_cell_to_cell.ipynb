{
 "cells": [
  {
   "cell_type": "code",
   "execution_count": null,
   "id": "8581c5e7",
   "metadata": {
    "vscode": {
     "languageId": "plaintext"
    }
   },
   "outputs": [],
   "source": [
    "!pip install cellpose==2.2 --quiet"
   ]
  },
  {
   "cell_type": "code",
   "execution_count": null,
   "id": "aac43fcf",
   "metadata": {
    "vscode": {
     "languageId": "plaintext"
    }
   },
   "outputs": [],
   "source": [
    "# @title Imports\n",
    "\n",
    "!git clone https://github.com/WinetraubLab/coregister-xy.git\n",
    "%cd coregister-xy\n",
    "\n",
    "from cell_to_cell_registration import segment_cells\n",
    "from cell_to_cell_registration import PCR99a\n",
    "from plane.fit_plane_elastic import FitPlaneElastic\n",
    "\n",
    "from scipy.interpolate import RegularGridInterpolator\n",
    "from scipy.spatial import cKDTree\n",
    "from skimage.measure import regionprops, label\n",
    "from cellpose import io, models, plot\n",
    "\n",
    "import matplotlib.pyplot as plt\n",
    "import cv2\n",
    "import numpy as np\n",
    "\n",
    "from google.colab import drive\n",
    "drive.mount('/content/drive')"
   ]
  },
  {
   "cell_type": "code",
   "execution_count": null,
   "id": "c5be6acf",
   "metadata": {
    "vscode": {
     "languageId": "plaintext"
    }
   },
   "outputs": [],
   "source": [
    "# @title Inputs\n",
    "\n",
    "# Image paths\n",
    "oct_volume_image_path = \"\"      # Path to OCT volume\n",
    "hist_image_path = \"\"            # Path to fluorescent image\n",
    "\n",
    "# For rough alignment\n",
    "histology_coords_px = []        # Coordinates in px from fluorescent image\n",
    "oct_coords_mm = []              # Matching coordinates in mm from photobleach template\n",
    "smoothing = 0.5                 # 0 for fully elastic, 1 for fully affine\n",
    "x_range_mm = [0, 1]             # OCT view range in x\n",
    "y_range_mm = [0, 1]             # OCT view range in y\n",
    "\n",
    "# Cell-level\n",
    "do_cell_to_cell_alignment = True\n",
    "\n",
    "# For segmentation\n",
    "z_buffer_um = 20                # Desired amount of extra space above/below the rough fit estimated from the above provided coordinate pairs.\n",
    "barcode_focus_oct_slice = 120   # Voxel depth/slice number in OCT volume where photobleach barcode z=0.\n",
    "oct_xy_downscale_factor = 2     # Optional: Downsampling to increase segmentation speed\n",
    "avg_cell_diameter_px = 10       # Expected average diameter of the cells to segment, in the raw volume (no downsampling)\n",
    "hist_valid_cell_segmentation_path = None # Optional: binary mask for histology image to denote areas to keep/discard cell segmentations\n",
    "\n",
    "# For point matching\n",
    "initial_pairs_dist_threshold = 40 # Approximate accuracy of rough alignment\n",
    "z_weight = 1.5                  # Increase this value the more confident you are in your z depth estimations from barcodes."
   ]
  }
 ],
 "metadata": {
  "language_info": {
   "name": "python"
  }
 },
 "nbformat": 4,
 "nbformat_minor": 5
}
