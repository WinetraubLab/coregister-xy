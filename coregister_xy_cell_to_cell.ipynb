{
 "cells": [
  {
   "cell_type": "markdown",
   "id": "810e4699",
   "metadata": {},
   "source": [
    "<a href=\"https://colab.research.google.com/github/WinetraubLab/coregister-xy/blob/main/coregister_xy_cell_to_cell.ipynb\" target=\"_blank\">\n",
    "<img src=\"https://colab.research.google.com/assets/colab-badge.svg\" alt=\"Open in Colab\"/></a>\n",
    "<a href=\"https://github.com/WinetraubLab/coregister-xy/blob/main/coregister_xy_cell_to_cell.ipynb\" target=\"_blank\">\n",
    "  <img src=\"https://img.shields.io/badge/view%20in-GitHub-blue\" alt=\"View in GitHub\"/>\n",
    "</a>\n",
    "\n",
    "# Overview\n",
    "Cell-to-cell alignment of a single 2D fluorescent/histology image to 3D OCT volume."
   ]
  },
  {
   "cell_type": "code",
   "execution_count": null,
   "id": "c3556d9c",
   "metadata": {
    "vscode": {
     "languageId": "plaintext"
    }
   },
   "outputs": [],
   "source": [
    "!pip install cellpose==2.2 --quiet\n",
    "!git clone https://github.com/WinetraubLab/coregister-xy.git\n",
    "%cd coregister-xy"
   ]
  },
  {
   "cell_type": "code",
   "execution_count": null,
   "id": "e489f4ff",
   "metadata": {
    "vscode": {
     "languageId": "plaintext"
    }
   },
   "outputs": [],
   "source": [
    "# Imports\n",
    "from cell_to_cell_registration import segment_cells\n",
    "from cell_to_cell_registration import PCR99a\n",
    "from plane.fit_plane_elastic import FitPlaneElastic\n",
    "\n",
    "from scipy.interpolate import RegularGridInterpolator\n",
    "from scipy.spatial import cKDTree\n",
    "from skimage.measure import regionprops, label\n",
    "from cellpose import io, models, plot\n",
    "\n",
    "import matplotlib.pyplot as plt\n",
    "import cv2\n",
    "import numpy as np\n",
    "\n",
    "from google.colab import drive\n",
    "drive.mount('/content/drive')"
   ]
  },
  {
   "cell_type": "code",
   "execution_count": null,
   "id": "d45a1c6d",
   "metadata": {
    "vscode": {
     "languageId": "plaintext"
    }
   },
   "outputs": [],
   "source": [
    "# @title Inputs\n",
    "\n",
    "# Image paths\n",
    "oct_volume_image_path = \"\"      # Path to OCT volume \n",
    "hist_image_path = \"\"            # Path to fluorescent image\n",
    "\n",
    "# For rough alignment\n",
    "histology_coords_px = []        # Coordinates in px from fluorescent image\n",
    "oct_coords_mm = []              # Matching coordinates in mm from photobleach template\n",
    "smoothing = 0.5                 # 0 for fully elastic, 1 for fully affine\n",
    "x_range_mm = [0, 1]             # OCT view range in x\n",
    "y_range_mm = [0, 1]             # OCT view range in y\n",
    "\n",
    "# Cell-level \n",
    "do_cell_to_cell_alignment = True\n",
    "\n",
    "# For segmentation\n",
    "z_buffer_um = 20                # Desired amount of extra space above/below the rough fit estimated from the above provided coordinate pairs.\n",
    "barcode_focus_oct_slice = 120   # Voxel depth/slice number in OCT volume where photobleach barcode z=0.\n",
    "oct_xy_downscale_factor = 2     # Optional: Downsampling to increase segmentation speed \n",
    "avg_cell_diameter_px = 10       # Expected average diameter of the cells to segment, in the raw volume (no downsampling)\n",
    "hist_valid_cell_segmentation_path = None # Optional: binary mask for histology image to denote areas to keep/discard cell segmentations\n",
    "\n",
    "# For point matching\n",
    "initial_pairs_dist_threshold = 40 # Approximate accuracy of rough alignment\n",
    "z_weight = 1.5                  # Increase this value the more confident you are in your z depth estimations from barcodes."
   ]
  },
  {
   "cell_type": "markdown",
   "id": "573e7632",
   "metadata": {},
   "source": [
    "## Rough Alignment"
   ]
  },
  {
   "cell_type": "code",
   "execution_count": null,
   "id": "a3c334f0",
   "metadata": {
    "vscode": {
     "languageId": "plaintext"
    }
   },
   "outputs": [],
   "source": [
    "fp = FitPlaneElastic.from_points(histology_coords_px, oct_coords_mm, smoothing=smoothing)\n",
    "rough_align_2d_image = fp.image_to_physical_z_projection(hist_img, x_range_mm, y_range_mm, 1e-3) # 1um/px\n",
    "surface_z_um = fp.get_image_surface_z(x_range_mm, y_range_mm, pixel_size_mm) * 1000 # zmean_plane\n",
    "\n",
    "plt.imshow(surface_z_um)\n",
    "plt.colorbar()\n",
    "plt.title(\"Surface Depth Estimated from Photobleach Barcodes\")\n",
    "plt.show()"
   ]
  },
  {
   "cell_type": "markdown",
   "id": "3cbcacb8",
   "metadata": {},
   "source": [
    "## Cell-to-Cell Alignment"
   ]
  },
  {
   "cell_type": "markdown",
   "id": "c2c62ded",
   "metadata": {},
   "source": [
    "# @title Segmentation\n",
    "if do_cell_to_cell_alignment:\n",
    "    oxy_vol_xy = io.imread(oct_volume_image_path)\n",
    "    oct_vol_xy = downscale_local_mean(oct_vol_xy, (1,oct_xy_downscale_factor,oct_xy_downscale_factor))\n",
    "    \n",
    "    lower_z_bound = max(0, surface_z_um.min() - z_buffer_um)\n",
    "    upper_z_bound = surface_z_um.max() + z_buffer_um\n",
    "    oct_vol_xy_to_segment = oct_xy_vol[barcode_focus_oct_slice + lower_z_bound: barcode_focus_oct_slice + upper_z_bound]\n",
    "\n",
    "    # Segment\n",
    "    oct_masks, oct_flows = segment_cells.segment_cells(oct_xy_vol, avg_cell_diameter_px, flow_threshold=0.85, cellprob_threshold=-8, keep_cells='dark', gpu=True, normalization=\"clahe\")\n",
    "\n",
    "    # Get cell centers, assign z\n",
    "    oct_centroids = np.array([r.centroid for r in regionprops(oct_masks)])\n",
    "    oct_centroids[:,2] = oct_centroids[:,2] * oct_xy_downscale_factor\n",
    "    oct_centroids[:,1] = oct_centroids[:,1] * oct_xy_downscale_factor\n",
    "    oct_centroids[:,0] += max(0,int(surface_z_um.min()-lower_z_bound))\n",
    "\n",
    "    z = oct_centroids[:, 0]\n",
    "    y = oct_centroids[:, 1]\n",
    "    x = oct_centroids[:, 2]\n",
    "    zmin_plane = surface_z_um - z_buffer_um\n",
    "    zmax_plane = surface_z_um + z_buffer_um\n",
    "    within_bounds = (z.astype(int) > zmin_plane[y.astype(int), x.astype(int)]) & (z.astype(int) < zmax_plane[y.astype(int), x.astype(int)])\n",
    "    oct_centroids_xyz = oct_centroids[within_bounds][:, [2, 1, 0]]\n",
    "\n",
    "    # Save point\n",
    "    np.savetxt('/content/filtered_oct_centroids_xyz.csv', oct_centroids_xyz, delimiter=',')  # (n,3)\n",
    "\n",
    "    # 2D Segmentation \n",
    "\n",
    "    hist_img = io.imread(hist_image_path)\n",
    "    hist_masks, hist_flows = segment_cells.segment_cells(hist_img, avg_cell_diameter_px, flow_threshold=0.7, cellprob_threshold=-5, keep_cells='dark', gpu=True, normalization=\"global\")\n",
    "\n",
    "    # Get cell centers, assign z\n",
    "    hist_centroids = [np.array(r.centroid) for r in regionprops(hist_masks)]\n",
    "\n",
    "    constant_z = 1\n",
    "    z = np.full((len(hist_centroids), 1), constant_z)\n",
    "    hist_centroids = np.hstack((z, np.array(hist_centroids)))\n",
    "\n",
    "    hist_centroids_xyz = hist_centroids[:,(2,1,0)]\n",
    "\n",
    "    interp = RegularGridInterpolator(\n",
    "        (np.arange(surface_z_um.shape[0]), np.arange(surface_z_um.shape[1])),\n",
    "        surface_z_um, method='linear', bounds_error=False, fill_value=None\n",
    "    )\n",
    "\n",
    "    hist_points = np.stack([hist_centroids_xyz[:,1].ravel(), hist_centroids_xyz[:,0].ravel()], axis=-1)\n",
    "    hist_z_coords = interp(hist_points).reshape((hist_centroids_xyz[:,2].shape))\n",
    "    hist_z_coords = hist_z_coords.reshape(-1, 1)\n",
    "    hist_centroids_xyz = np.hstack((hist_centroids_xyz[:,:2], hist_z_coords))\n",
    "\n",
    "    if hist_valid_cell_mask_path is not None:\n",
    "        valid_cell_mask = cv2.imread(hist_valid_cell_mask_path, cv2.IMREAD_GRAYSCALE)\n",
    "        valid_cell_mask = (valid_cell_mask > 0).astype(np.uint8)\n",
    "        assert valid_cell_mask.shape[:2] == hist_img.shape[:2], \"Valid cell mask shape does not match histology image shape\"\n",
    "\n",
    "        x = hist_centroids_xyz[:, 0].astype(int)\n",
    "        y = hist_centroids_xyz[:, 1].astype(int)\n",
    "\n",
    "        hist_centroids_xyz = hist_centroids_xyz[valid_cell_mask[y,x] > 0]\n",
    "\n",
    "    # Save point\n",
    "    np.savetxt('/content/filtered_hist_centroids_xyz.csv', hist_centroids_xyz, delimiter=',')  # (n,3)"
   ]
  },
  {
   "cell_type": "code",
   "execution_count": null,
   "id": "2390ed8d",
   "metadata": {
    "vscode": {
     "languageId": "plaintext"
    }
   },
   "outputs": [],
   "source": [
    "# @title Matching initial pairs\n",
    "if do_cell_to_cell_alignment:\n",
    "    k = 20\n",
    "\n",
    "    A_T = np.asarray(oct_centroids_xyz, dtype=float)  # (n, 3)\n",
    "    B_T = np.asarray(hist_centroids_xyz, dtype=float)  # (m, 3)\n",
    "\n",
    "    # Scale Z coordinate\n",
    "    A_scaled = A_T.copy()\n",
    "    B_scaled = B_T.copy()\n",
    "    A_scaled[:, 2] *= z_weight\n",
    "    B_scaled[:, 2] *= z_weight\n",
    "\n",
    "    # Build KD-tree on scaled B\n",
    "    tree = cKDTree(B_scaled)\n",
    "\n",
    "    # Query k nearest neighbors\n",
    "    dists, indices = tree.query(A_scaled, k=k)\n",
    "\n",
    "    A_matched = []\n",
    "    B_matched = []\n",
    "\n",
    "    for i in range(A_scaled.shape[0]):\n",
    "        a_orig = A_T[i]  # unscaled\n",
    "        for j in range(k):\n",
    "            b_orig = B_T[indices[i, j]]  # unscaled match\n",
    "            if dists[i, j] < initial_pairs_dist_threshold: \n",
    "                A_matched.append(a_orig)\n",
    "                B_matched.append(b_orig)\n",
    "\n",
    "    A_matched = np.array(A_matched).T\n",
    "    B_matched = np.array(B_matched).T\n",
    "    matched_pairs = np.vstack((A_matched, B_matched))  # (6, n). OCT then hist\n",
    "\n",
    "    # Save\n",
    "    np.savetxt('/content/centroids_matched_pairs.csv', matched_pairs, delimiter=',')\n",
    "\n",
    "    print(f\"{A_matched.shape[1]} initial point pairs created\")"
   ]
  }
 ],
 "metadata": {
  "language_info": {
   "name": "python"
  }
 },
 "nbformat": 4,
 "nbformat_minor": 5
}
