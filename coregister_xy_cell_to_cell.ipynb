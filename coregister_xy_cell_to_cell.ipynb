{
 "cells": [
  {
   "cell_type": "markdown",
   "id": "49876e2f",
   "metadata": {},
   "source": [
    "## Cell-to-Cell Alignment"
   ]
  },
  {
   "cell_type": "code",
   "execution_count": null,
   "id": "63fee51b",
   "metadata": {
    "vscode": {
     "languageId": "plaintext"
    }
   },
   "outputs": [],
   "source": [
    "# @title Segmentation\n",
    "if do_cell_to_cell_alignment:\n",
    "    oxy_vol_xy = io.imread(oct_volume_image_path)\n",
    "    oct_vol_xy = downscale_local_mean(oct_vol_xy, (1,oct_xy_downscale_factor,oct_xy_downscale_factor))\n",
    "\n",
    "    lower_z_bound = max(0, surface_z_um.min() - z_buffer_um)\n",
    "    upper_z_bound = surface_z_um.max() + z_buffer_um\n",
    "    oct_vol_xy_to_segment = oct_xy_vol[barcode_focus_oct_slice + lower_z_bound: barcode_focus_oct_slice + upper_z_bound]\n",
    "\n",
    "    # Segment\n",
    "    oct_masks, oct_flows = segment_cells.segment_cells(oct_xy_vol, avg_cell_diameter_px, flow_threshold=0.85, cellprob_threshold=-8, keep_cells='dark', gpu=True, normalization=\"clahe\")\n",
    "\n",
    "    # Get cell centers, assign z\n",
    "    oct_centroids = np.array([r.centroid for r in regionprops(oct_masks)])\n",
    "    oct_centroids[:,2] = oct_centroids[:,2] * oct_xy_downscale_factor\n",
    "    oct_centroids[:,1] = oct_centroids[:,1] * oct_xy_downscale_factor\n",
    "    oct_centroids[:,0] += max(0,int(surface_z_um.min()-lower_z_bound))\n",
    "\n",
    "    z = oct_centroids[:, 0]\n",
    "    y = oct_centroids[:, 1]\n",
    "    x = oct_centroids[:, 2]\n",
    "    zmin_plane = surface_z_um - z_buffer_um\n",
    "    zmax_plane = surface_z_um + z_buffer_um\n",
    "    within_bounds = (z.astype(int) > zmin_plane[y.astype(int), x.astype(int)]) & (z.astype(int) < zmax_plane[y.astype(int), x.astype(int)])\n",
    "    oct_centroids_xyz = oct_centroids[within_bounds][:, [2, 1, 0]]\n",
    "\n",
    "    # Save point\n",
    "    np.savetxt('/content/filtered_oct_centroids_xyz.csv', oct_centroids_xyz, delimiter=',')  # (n,3)\n",
    "\n",
    "    # 2D Segmentation\n",
    "\n",
    "    hist_img = io.imread(hist_image_path)\n",
    "    hist_masks, hist_flows = segment_cells.segment_cells(hist_img, avg_cell_diameter_px, flow_threshold=0.7, cellprob_threshold=-5, keep_cells='dark', gpu=True, normalization=\"global\")\n",
    "\n",
    "    # Get cell centers, assign z\n",
    "    hist_centroids = [np.array(r.centroid) for r in regionprops(hist_masks)]\n",
    "\n",
    "    constant_z = 1\n",
    "    z = np.full((len(hist_centroids), 1), constant_z)\n",
    "    hist_centroids = np.hstack((z, np.array(hist_centroids)))\n",
    "\n",
    "    hist_centroids_xyz = hist_centroids[:,(2,1,0)]\n",
    "\n",
    "    interp = RegularGridInterpolator(\n",
    "        (np.arange(surface_z_um.shape[0]), np.arange(surface_z_um.shape[1])),\n",
    "        surface_z_um, method='linear', bounds_error=False, fill_value=None\n",
    "    )\n",
    "\n",
    "    hist_points = np.stack([hist_centroids_xyz[:,1].ravel(), hist_centroids_xyz[:,0].ravel()], axis=-1)\n",
    "    hist_z_coords = interp(hist_points).reshape((hist_centroids_xyz[:,2].shape))\n",
    "    hist_z_coords = hist_z_coords.reshape(-1, 1)\n",
    "    hist_centroids_xyz = np.hstack((hist_centroids_xyz[:,:2], hist_z_coords))\n",
    "\n",
    "    if hist_valid_cell_mask_path is not None:\n",
    "        valid_cell_mask = cv2.imread(hist_valid_cell_mask_path, cv2.IMREAD_GRAYSCALE)\n",
    "        valid_cell_mask = (valid_cell_mask > 0).astype(np.uint8)\n",
    "        assert valid_cell_mask.shape[:2] == hist_img.shape[:2], \"Valid cell mask shape does not match histology image shape\"\n",
    "\n",
    "        x = hist_centroids_xyz[:, 0].astype(int)\n",
    "        y = hist_centroids_xyz[:, 1].astype(int)\n",
    "\n",
    "        hist_centroids_xyz = hist_centroids_xyz[valid_cell_mask[y,x] > 0]\n",
    "\n",
    "    # Save point\n",
    "    np.savetxt('/content/filtered_hist_centroids_xyz.csv', hist_centroids_xyz, delimiter=',')  # (n,3)\n"
   ]
  }
 ],
 "metadata": {
  "language_info": {
   "name": "python"
  }
 },
 "nbformat": 4,
 "nbformat_minor": 5
}
