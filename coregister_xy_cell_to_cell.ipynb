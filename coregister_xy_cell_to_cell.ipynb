{
 "cells": [
  {
   "cell_type": "markdown",
   "id": "3b099462",
   "metadata": {},
   "source": [
    "## Rough Alignment"
   ]
  },
  {
   "cell_type": "code",
   "execution_count": null,
   "id": "8d69264c",
   "metadata": {
    "vscode": {
     "languageId": "plaintext"
    }
   },
   "outputs": [],
   "source": [
    "fp = FitPlaneElastic.from_points(histology_coords_px, oct_coords_mm, smoothing=smoothing)\n",
    "rough_align_2d_image = fp.image_to_physical_z_projection(hist_img, x_range_mm, y_range_mm, 1e-3) # 1um/px\n",
    "surface_z_um = fp.get_image_surface_z(x_range_mm, y_range_mm, pixel_size_mm) * 1000 # zmean_plane\n",
    "\n",
    "plt.imshow(surface_z_um)\n",
    "plt.colorbar()\n",
    "plt.title(\"Surface Depth Estimated from Photobleach Barcodes\")\n",
    "plt.show()"
   ]
  }
 ],
 "metadata": {
  "language_info": {
   "name": "python"
  }
 },
 "nbformat": 4,
 "nbformat_minor": 5
}
